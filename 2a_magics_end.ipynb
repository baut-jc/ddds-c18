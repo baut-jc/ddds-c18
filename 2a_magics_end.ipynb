{
  "cells": [
    {
      "cell_type": "markdown",
      "metadata": {
        "id": "view-in-github",
        "colab_type": "text"
      },
      "source": [
        "<a href=\"https://colab.research.google.com/github/baut-jc/ddds-c18/blob/main/2a_magics_end.ipynb\" target=\"_parent\"><img src=\"https://colab.research.google.com/assets/colab-badge.svg\" alt=\"Open In Colab\"/></a>"
      ]
    },
    {
      "cell_type": "markdown",
      "source": [
        "# Working with Colab/Jupyter magics\n",
        "\n"
      ],
      "metadata": {
        "id": "ZnI8cCDnJnAK"
      }
    },
    {
      "cell_type": "markdown",
      "source": [
        "## Getting help\n",
        "\n"
      ],
      "metadata": {
        "id": "OGivruXXJrYq"
      }
    },
    {
      "cell_type": "code",
      "source": [
        "# Quick reference guide to all magics\n",
        "%quickref"
      ],
      "metadata": {
        "id": "KNnbNijnJwQ1"
      },
      "execution_count": null,
      "outputs": []
    },
    {
      "cell_type": "code",
      "source": [
        "# Detail of all magic commands\n",
        "%magic"
      ],
      "metadata": {
        "id": "hFVX_PVcJwdK"
      },
      "execution_count": null,
      "outputs": []
    },
    {
      "cell_type": "markdown",
      "source": [
        "### Two kinds of magics: cell and line"
      ],
      "metadata": {
        "id": "W32SeDK6QsVj"
      }
    },
    {
      "cell_type": "code",
      "source": [
        "# List all line and cell magics.\n",
        "# Also show state of Automagic\n",
        "%lsmagic"
      ],
      "metadata": {
        "id": "kXYorXf8J_i-",
        "colab": {
          "base_uri": "https://localhost:8080/",
          "height": 1000
        },
        "outputId": "982bbe60-7418-42a7-a3d1-fe4d6deb3464"
      },
      "execution_count": null,
      "outputs": [
        {
          "output_type": "execute_result",
          "data": {
            "text/plain": [
              "Available line magics:\n",
              "%alias  %alias_magic  %autoawait  %autocall  %automagic  %autosave  %bookmark  %cat  %cd  %clear  %colors  %conda  %config  %connect_info  %cp  %debug  %dhist  %dirs  %doctest_mode  %ed  %edit  %env  %gui  %hist  %history  %killbgscripts  %ldir  %less  %lf  %lk  %ll  %load  %load_ext  %loadpy  %logoff  %logon  %logstart  %logstate  %logstop  %ls  %lsmagic  %lx  %macro  %magic  %man  %matplotlib  %mkdir  %more  %mv  %notebook  %page  %pastebin  %pdb  %pdef  %pdoc  %pfile  %pinfo  %pinfo2  %pip  %popd  %pprint  %precision  %prun  %psearch  %psource  %pushd  %pwd  %pycat  %pylab  %qtconsole  %quickref  %recall  %rehashx  %reload_ext  %rep  %rerun  %reset  %reset_selective  %rm  %rmdir  %run  %save  %sc  %set_env  %shell  %store  %sx  %system  %tb  %tensorflow_version  %time  %timeit  %unalias  %unload_ext  %who  %who_ls  %whos  %xdel  %xmode\n",
              "\n",
              "Available cell magics:\n",
              "%%!  %%HTML  %%SVG  %%bash  %%bigquery  %%capture  %%debug  %%file  %%html  %%javascript  %%js  %%latex  %%markdown  %%perl  %%prun  %%pypy  %%python  %%python2  %%python3  %%ruby  %%script  %%sh  %%shell  %%spanner_graph  %%svg  %%sx  %%system  %%time  %%timeit  %%writefile\n",
              "\n",
              "Automagic is ON, % prefix IS NOT needed for line magics."
            ],
            "application/json": {
              "line": {
                "automagic": "AutoMagics",
                "autocall": "AutoMagics",
                "alias_magic": "BasicMagics",
                "lsmagic": "BasicMagics",
                "magic": "BasicMagics",
                "page": "BasicMagics",
                "pprint": "BasicMagics",
                "colors": "BasicMagics",
                "xmode": "BasicMagics",
                "quickref": "BasicMagics",
                "doctest_mode": "BasicMagics",
                "gui": "BasicMagics",
                "precision": "BasicMagics",
                "notebook": "BasicMagics",
                "save": "CodeMagics",
                "pastebin": "CodeMagics",
                "loadpy": "CodeMagics",
                "load": "CodeMagics",
                "edit": "KernelMagics",
                "config": "ConfigMagics",
                "prun": "ExecutionMagics",
                "pdb": "ExecutionMagics",
                "debug": "ExecutionMagics",
                "tb": "ExecutionMagics",
                "run": "ExecutionMagics",
                "timeit": "ExecutionMagics",
                "time": "ExecutionMagics",
                "macro": "ExecutionMagics",
                "load_ext": "ExtensionMagics",
                "unload_ext": "ExtensionMagics",
                "reload_ext": "ExtensionMagics",
                "history": "HistoryMagics",
                "recall": "HistoryMagics",
                "rerun": "HistoryMagics",
                "logstart": "LoggingMagics",
                "logstop": "LoggingMagics",
                "logoff": "LoggingMagics",
                "logon": "LoggingMagics",
                "logstate": "LoggingMagics",
                "pinfo": "NamespaceMagics",
                "pinfo2": "NamespaceMagics",
                "pdef": "NamespaceMagics",
                "pdoc": "NamespaceMagics",
                "psource": "NamespaceMagics",
                "pfile": "NamespaceMagics",
                "psearch": "NamespaceMagics",
                "who_ls": "NamespaceMagics",
                "who": "NamespaceMagics",
                "whos": "NamespaceMagics",
                "reset": "NamespaceMagics",
                "reset_selective": "NamespaceMagics",
                "xdel": "NamespaceMagics",
                "alias": "OSMagics",
                "unalias": "OSMagics",
                "rehashx": "OSMagics",
                "pwd": "OSMagics",
                "cd": "OSMagics",
                "env": "OSMagics",
                "set_env": "OSMagics",
                "pushd": "OSMagics",
                "popd": "OSMagics",
                "dirs": "OSMagics",
                "dhist": "OSMagics",
                "sc": "OSMagics",
                "sx": "OSMagics",
                "system": "OSMagics",
                "bookmark": "OSMagics",
                "pycat": "OSMagics",
                "pip": "Other",
                "conda": "PackagingMagics",
                "matplotlib": "PylabMagics",
                "pylab": "PylabMagics",
                "killbgscripts": "ScriptMagics",
                "autoawait": "AsyncMagics",
                "ed": "Other",
                "hist": "Other",
                "rep": "Other",
                "clear": "KernelMagics",
                "less": "KernelMagics",
                "more": "KernelMagics",
                "man": "KernelMagics",
                "connect_info": "KernelMagics",
                "qtconsole": "KernelMagics",
                "autosave": "KernelMagics",
                "mkdir": "Other",
                "rmdir": "Other",
                "mv": "Other",
                "rm": "Other",
                "cp": "Other",
                "cat": "Other",
                "ls": "Other",
                "ll": "Other",
                "lf": "Other",
                "lk": "Other",
                "ldir": "Other",
                "lx": "Other",
                "store": "StoreMagics",
                "shell": "Other",
                "tensorflow_version": "Other"
              },
              "cell": {
                "js": "DisplayMagics",
                "javascript": "DisplayMagics",
                "latex": "DisplayMagics",
                "svg": "DisplayMagics",
                "html": "DisplayMagics",
                "markdown": "DisplayMagics",
                "prun": "ExecutionMagics",
                "debug": "ExecutionMagics",
                "timeit": "ExecutionMagics",
                "time": "ExecutionMagics",
                "capture": "ExecutionMagics",
                "sx": "OSMagics",
                "system": "OSMagics",
                "!": "OSMagics",
                "writefile": "OSMagics",
                "script": "ScriptMagics",
                "sh": "Other",
                "bash": "Other",
                "perl": "Other",
                "ruby": "Other",
                "python": "Other",
                "python2": "Other",
                "python3": "Other",
                "pypy": "Other",
                "SVG": "Other",
                "HTML": "Other",
                "file": "Other",
                "bigquery": "Other",
                "spanner_graph": "Other",
                "shell": "Other"
              }
            }
          },
          "metadata": {},
          "execution_count": 20
        }
      ]
    },
    {
      "cell_type": "code",
      "source": [
        "# Display help for specific magic command, e.g. %%writefile --> preface with a '?'\n",
        "?%%writefile"
      ],
      "metadata": {
        "id": "96CIhaiBJwZ4"
      },
      "execution_count": null,
      "outputs": []
    },
    {
      "cell_type": "code",
      "source": [
        "%%writefile hw.txt\n",
        "\n",
        "Hello, World!\n",
        "\n",
        "The end\n",
        "\n",
        "No, really.  It's the end."
      ],
      "metadata": {
        "id": "cIodTv99_8dl",
        "colab": {
          "base_uri": "https://localhost:8080/"
        },
        "outputId": "baf763bc-1c81-4a78-a91d-5358b1e91d32"
      },
      "execution_count": null,
      "outputs": [
        {
          "output_type": "stream",
          "name": "stdout",
          "text": [
            "Overwriting hw.txt\n"
          ]
        }
      ]
    },
    {
      "cell_type": "code",
      "source": [
        "!cat -n hw.txt"
      ],
      "metadata": {
        "id": "zhrtpdPHTWs-",
        "colab": {
          "base_uri": "https://localhost:8080/"
        },
        "outputId": "01677da7-69e3-414d-ffa2-3a30a823f442"
      },
      "execution_count": null,
      "outputs": [
        {
          "output_type": "stream",
          "name": "stdout",
          "text": [
            "     1\t\n",
            "     2\tHello, World!\n",
            "     3\t\n",
            "     4\tThe end\n",
            "     5\t\n",
            "     6\tNo, really.  It's the end.\n"
          ]
        }
      ]
    },
    {
      "cell_type": "code",
      "source": [
        "?%reset"
      ],
      "metadata": {
        "id": "bT_pgz69cZfR"
      },
      "execution_count": null,
      "outputs": []
    },
    {
      "cell_type": "markdown",
      "source": [
        "## Timeit"
      ],
      "metadata": {
        "id": "gQXs69HpYBBA"
      }
    },
    {
      "cell_type": "markdown",
      "source": [
        "Numbers\n",
        "- ms = 1/1e3 s = 1e-3 s = $10^{-3}$ s\n",
        "- $\\mu$s = 1/1e6 s = 1e-6 s = $10^{-6}$ s\n",
        "- ns = 1/1e9 s = 1e-9 s = $10^{-9}$ s\n",
        "\n",
        "difference is gaus_sum is constant sum comparable to sum because as the size goes up the longer it takes."
      ],
      "metadata": {
        "id": "aO2ep8GZYDl3"
      }
    },
    {
      "cell_type": "code",
      "source": [
        "def sum(num):\n",
        "  tally = 0\n",
        "  for i in range(0,int(num+1)):  #depends on the size of the dataset\n",
        "    tally += i\n",
        "  return tally\n"
      ],
      "metadata": {
        "id": "7ccKV0y2UHTf"
      },
      "execution_count": null,
      "outputs": []
    },
    {
      "cell_type": "code",
      "source": [
        "sum(100)\n"
      ],
      "metadata": {
        "id": "PAYLFFW_XAg0",
        "colab": {
          "base_uri": "https://localhost:8080/"
        },
        "outputId": "5960dbf2-19f4-41fb-915f-af51ce1cbaa6"
      },
      "execution_count": null,
      "outputs": [
        {
          "output_type": "execute_result",
          "data": {
            "text/plain": [
              "5050"
            ]
          },
          "metadata": {},
          "execution_count": 26
        }
      ]
    },
    {
      "cell_type": "code",
      "source": [
        "def gaus_sum(num):\n",
        "  return int(num*(num+1)/2)\n"
      ],
      "metadata": {
        "id": "L9qHzE1FUkVn"
      },
      "execution_count": null,
      "outputs": []
    },
    {
      "cell_type": "code",
      "source": [
        "gaus_sum(100)"
      ],
      "metadata": {
        "id": "55cUDsNQW9am",
        "colab": {
          "base_uri": "https://localhost:8080/"
        },
        "outputId": "000d2d3c-4804-4eee-9972-ed89b60af618"
      },
      "execution_count": null,
      "outputs": [
        {
          "output_type": "execute_result",
          "data": {
            "text/plain": [
              "5050"
            ]
          },
          "metadata": {},
          "execution_count": 28
        }
      ]
    },
    {
      "cell_type": "code",
      "source": [
        "max = 1e8"
      ],
      "metadata": {
        "id": "TepCSDnpXTP5"
      },
      "execution_count": null,
      "outputs": []
    },
    {
      "cell_type": "code",
      "source": [
        "%%timeit\n",
        "sum(max)\n"
      ],
      "metadata": {
        "id": "CpCqEFawUQz6",
        "colab": {
          "base_uri": "https://localhost:8080/"
        },
        "outputId": "25151529-ca3c-47cd-b0ee-444c86c67f49"
      },
      "execution_count": null,
      "outputs": [
        {
          "output_type": "stream",
          "name": "stdout",
          "text": [
            "5.6 s ± 527 ms per loop (mean ± std. dev. of 7 runs, 1 loop each)\n"
          ]
        }
      ]
    },
    {
      "cell_type": "code",
      "source": [
        "%%timeit\n",
        "gaus_sum(max)\n"
      ],
      "metadata": {
        "id": "sLNV-6B2WRZp",
        "colab": {
          "base_uri": "https://localhost:8080/"
        },
        "outputId": "b58dd50e-0531-4176-c34c-8436a6f0d759"
      },
      "execution_count": null,
      "outputs": [
        {
          "output_type": "stream",
          "name": "stdout",
          "text": [
            "221 ns ± 42.4 ns per loop (mean ± std. dev. of 7 runs, 10000000 loops each)\n"
          ]
        }
      ]
    },
    {
      "cell_type": "code",
      "source": [
        "# Collection of n, time sum, time gaus_sum; time in ns\n",
        "[\n",
        "  ( 1e2,         4_000, 230 ),\n",
        "  ( 1e4,       782_000, 240 ),\n",
        "  ( 1e6,    66_600_000, 241 ),\n",
        "  ( 1e8, 7_590_000_000, 324 ),\n",
        "]\n"
      ],
      "metadata": {
        "id": "C-VIAjqCWTcb",
        "colab": {
          "base_uri": "https://localhost:8080/"
        },
        "outputId": "5545a473-e87b-4aa4-dff7-6ba1f24f6ed4"
      },
      "execution_count": null,
      "outputs": [
        {
          "output_type": "execute_result",
          "data": {
            "text/plain": [
              "[(100.0, 4000, 230),\n",
              " (10000.0, 782000, 240),\n",
              " (1000000.0, 66600000, 241),\n",
              " (100000000.0, 7590000000, 324)]"
            ]
          },
          "metadata": {},
          "execution_count": 32
        }
      ]
    },
    {
      "cell_type": "markdown",
      "source": [
        "## Working with the shell\n",
        "\n",
        "\n"
      ],
      "metadata": {
        "id": "rSH0Uvm5xIj4"
      }
    },
    {
      "cell_type": "markdown",
      "source": [
        "[CoLab and Shell Commands]( https://colab.research.google.com/github/jakevdp/PythonDataScienceHandbook/blob/master/notebooks/01.05-IPython-And-Shell-Commands.ipynb )"
      ],
      "metadata": {
        "id": "fbjpYQtJxO4P"
      }
    },
    {
      "cell_type": "markdown",
      "source": [
        "### Shell commands"
      ],
      "metadata": {
        "id": "VdQOxMe4ew5h"
      }
    },
    {
      "cell_type": "code",
      "source": [
        "# Cell magic using %%script\n",
        "%%script bash\n",
        "ls -1A\n"
      ],
      "metadata": {
        "id": "CK_OOxYqgCV_",
        "colab": {
          "base_uri": "https://localhost:8080/"
        },
        "outputId": "ddcf2b7e-1e0f-4059-eb24-5689a952ab1a"
      },
      "execution_count": null,
      "outputs": [
        {
          "output_type": "stream",
          "name": "stdout",
          "text": [
            ".config\n",
            "hw.txt\n",
            "sample_data\n"
          ]
        }
      ]
    },
    {
      "cell_type": "code",
      "source": [
        "ls -1A   # Line magic, if %automagic is enabled"
      ],
      "metadata": {
        "id": "9xCa1DoqHWZw",
        "colab": {
          "base_uri": "https://localhost:8080/"
        },
        "outputId": "3a360ef6-20e4-4e2e-906d-05763ff3508e"
      },
      "execution_count": null,
      "outputs": [
        {
          "output_type": "stream",
          "name": "stdout",
          "text": [
            "\u001b[0m\u001b[01;34m.config\u001b[0m/\n",
            "hw.txt\n",
            "\u001b[01;34msample_data\u001b[0m/\n"
          ]
        }
      ]
    },
    {
      "cell_type": "code",
      "source": [],
      "metadata": {
        "id": "MASRiws_BhHx"
      },
      "execution_count": null,
      "outputs": []
    },
    {
      "cell_type": "code",
      "source": [
        "# Cell magic using %%bash, a shortcut to %%script bash\n",
        "%%bash\n",
        "ls -1A\n"
      ],
      "metadata": {
        "id": "5LiIvAMdf7XB",
        "colab": {
          "base_uri": "https://localhost:8080/"
        },
        "outputId": "0f54b83c-2670-46d0-d21b-f9d676723fe6"
      },
      "execution_count": null,
      "outputs": [
        {
          "output_type": "stream",
          "name": "stdout",
          "text": [
            ".config\n",
            "hw.txt\n",
            "sample_data\n"
          ]
        }
      ]
    },
    {
      "cell_type": "code",
      "source": [
        "# Line magic regardless of %automagic state\n",
        "%ls -1A\n"
      ],
      "metadata": {
        "id": "JJNkmGlQev41",
        "colab": {
          "base_uri": "https://localhost:8080/"
        },
        "outputId": "7143d0e1-7005-4767-aada-55f7279d4db6"
      },
      "execution_count": null,
      "outputs": [
        {
          "output_type": "stream",
          "name": "stdout",
          "text": [
            "\u001b[0m\u001b[01;34m.config\u001b[0m/\n",
            "hw.txt\n",
            "\u001b[01;34msample_data\u001b[0m/\n"
          ]
        }
      ]
    },
    {
      "cell_type": "code",
      "source": [
        "# Shell command using \"!\"\n",
        "!ls -1A"
      ],
      "metadata": {
        "id": "cu36aj0FVRJK",
        "colab": {
          "base_uri": "https://localhost:8080/"
        },
        "outputId": "c1d03d12-9cff-4bfb-94e8-56b5ad0b7493"
      },
      "execution_count": null,
      "outputs": [
        {
          "output_type": "stream",
          "name": "stdout",
          "text": [
            ".config\n",
            "hw.txt\n",
            "sample_data\n"
          ]
        }
      ]
    },
    {
      "cell_type": "code",
      "source": [
        "# Assigning the output of a shell command to a Python variable\n",
        "files = !ls -1A\n",
        "files\n"
      ],
      "metadata": {
        "id": "bjQNE6qHe4Jv",
        "colab": {
          "base_uri": "https://localhost:8080/"
        },
        "outputId": "f9fffcb4-c60a-4c51-b36e-7c7346671081"
      },
      "execution_count": null,
      "outputs": [
        {
          "output_type": "execute_result",
          "data": {
            "text/plain": [
              "['.config', 'hw.txt', 'sample_data']"
            ]
          },
          "metadata": {},
          "execution_count": 38
        }
      ]
    },
    {
      "cell_type": "code",
      "source": [
        "# The number of files\n",
        "len(files)\n"
      ],
      "metadata": {
        "id": "L4Jdlcbte90l",
        "colab": {
          "base_uri": "https://localhost:8080/"
        },
        "outputId": "c5b3cd78-5745-40dc-b3f4-f641897ebe2b"
      },
      "execution_count": null,
      "outputs": [
        {
          "output_type": "execute_result",
          "data": {
            "text/plain": [
              "3"
            ]
          },
          "metadata": {},
          "execution_count": 39
        }
      ]
    },
    {
      "cell_type": "code",
      "source": [
        "# Traverse the filesystem\n",
        "!find /etc/apt\n"
      ],
      "metadata": {
        "id": "KP9f6BFafHjd",
        "colab": {
          "base_uri": "https://localhost:8080/"
        },
        "outputId": "175f4c62-dd09-44f4-8577-d42935c29387"
      },
      "execution_count": null,
      "outputs": [
        {
          "output_type": "stream",
          "name": "stdout",
          "text": [
            "/etc/apt\n",
            "/etc/apt/trusted.gpg.d\n",
            "/etc/apt/trusted.gpg.d/ubuntu-keyring-2018-archive.gpg\n",
            "/etc/apt/trusted.gpg.d/ubuntu-keyring-2012-cdimage.gpg\n",
            "/etc/apt/trusted.gpg.d/graphics-drivers-ubuntu-ppa.gpg~\n",
            "/etc/apt/trusted.gpg.d/ubuntugis-ubuntu-ppa.gpg~\n",
            "/etc/apt/trusted.gpg.d/cran_ubuntu_key.asc\n",
            "/etc/apt/trusted.gpg.d/deadsnakes-ubuntu-ppa.gpg\n",
            "/etc/apt/trusted.gpg.d/ubuntugis-ubuntu-ppa.gpg\n",
            "/etc/apt/trusted.gpg.d/deadsnakes-ubuntu-ppa.gpg~\n",
            "/etc/apt/trusted.gpg.d/graphics-drivers-ubuntu-ppa.gpg\n",
            "/etc/apt/trusted.gpg.d/r2u_key.asc\n",
            "/etc/apt/auth.conf.d\n",
            "/etc/apt/sources.list.d\n",
            "/etc/apt/sources.list.d/graphics-drivers-ubuntu-ppa-jammy.list\n",
            "/etc/apt/sources.list.d/cuda-ubuntu2204-x86_64.list\n",
            "/etc/apt/sources.list.d/archive_uri-https_cloud_r-project_org_bin_linux_ubuntu-jammy.list\n",
            "/etc/apt/sources.list.d/archive_uri-https_r2u_stat_illinois_edu_ubuntu-jammy.list\n",
            "/etc/apt/sources.list.d/ubuntugis-ubuntu-ppa-jammy.list\n",
            "/etc/apt/sources.list.d/deadsnakes-ubuntu-ppa-jammy.list\n",
            "/etc/apt/sources.list\n",
            "/etc/apt/apt.conf.d\n",
            "/etc/apt/apt.conf.d/docker-disable-periodic-update\n",
            "/etc/apt/apt.conf.d/docker-autoremove-suggests\n",
            "/etc/apt/apt.conf.d/docker-no-languages\n",
            "/etc/apt/apt.conf.d/01autoremove\n",
            "/etc/apt/apt.conf.d/01-vendor-ubuntu\n",
            "/etc/apt/apt.conf.d/70debconf\n",
            "/etc/apt/apt.conf.d/docker-gzip-indexes\n",
            "/etc/apt/apt.conf.d/docker-clean\n",
            "/etc/apt/apt.conf.d/90assumeyes\n",
            "/etc/apt/apt.conf.d/20packagekit\n",
            "/etc/apt/keyrings\n",
            "/etc/apt/preferences.d\n",
            "/etc/apt/preferences.d/cuda-repository-pin-600\n"
          ]
        }
      ]
    },
    {
      "cell_type": "code",
      "source": [
        "# Traverse the filesystem and assign to a Python variable\n",
        "files = !find /etc/apt\n",
        "files\n"
      ],
      "metadata": {
        "id": "rq15iPxffLVj",
        "colab": {
          "base_uri": "https://localhost:8080/"
        },
        "outputId": "f679fbcb-e501-4fc2-fab8-5c9089c4e095"
      },
      "execution_count": null,
      "outputs": [
        {
          "output_type": "execute_result",
          "data": {
            "text/plain": [
              "['/etc/apt',\n",
              " '/etc/apt/trusted.gpg.d',\n",
              " '/etc/apt/trusted.gpg.d/ubuntu-keyring-2018-archive.gpg',\n",
              " '/etc/apt/trusted.gpg.d/ubuntu-keyring-2012-cdimage.gpg',\n",
              " '/etc/apt/trusted.gpg.d/graphics-drivers-ubuntu-ppa.gpg~',\n",
              " '/etc/apt/trusted.gpg.d/ubuntugis-ubuntu-ppa.gpg~',\n",
              " '/etc/apt/trusted.gpg.d/cran_ubuntu_key.asc',\n",
              " '/etc/apt/trusted.gpg.d/deadsnakes-ubuntu-ppa.gpg',\n",
              " '/etc/apt/trusted.gpg.d/ubuntugis-ubuntu-ppa.gpg',\n",
              " '/etc/apt/trusted.gpg.d/deadsnakes-ubuntu-ppa.gpg~',\n",
              " '/etc/apt/trusted.gpg.d/graphics-drivers-ubuntu-ppa.gpg',\n",
              " '/etc/apt/trusted.gpg.d/r2u_key.asc',\n",
              " '/etc/apt/auth.conf.d',\n",
              " '/etc/apt/sources.list.d',\n",
              " '/etc/apt/sources.list.d/graphics-drivers-ubuntu-ppa-jammy.list',\n",
              " '/etc/apt/sources.list.d/cuda-ubuntu2204-x86_64.list',\n",
              " '/etc/apt/sources.list.d/archive_uri-https_cloud_r-project_org_bin_linux_ubuntu-jammy.list',\n",
              " '/etc/apt/sources.list.d/archive_uri-https_r2u_stat_illinois_edu_ubuntu-jammy.list',\n",
              " '/etc/apt/sources.list.d/ubuntugis-ubuntu-ppa-jammy.list',\n",
              " '/etc/apt/sources.list.d/deadsnakes-ubuntu-ppa-jammy.list',\n",
              " '/etc/apt/sources.list',\n",
              " '/etc/apt/apt.conf.d',\n",
              " '/etc/apt/apt.conf.d/docker-disable-periodic-update',\n",
              " '/etc/apt/apt.conf.d/docker-autoremove-suggests',\n",
              " '/etc/apt/apt.conf.d/docker-no-languages',\n",
              " '/etc/apt/apt.conf.d/01autoremove',\n",
              " '/etc/apt/apt.conf.d/01-vendor-ubuntu',\n",
              " '/etc/apt/apt.conf.d/70debconf',\n",
              " '/etc/apt/apt.conf.d/docker-gzip-indexes',\n",
              " '/etc/apt/apt.conf.d/docker-clean',\n",
              " '/etc/apt/apt.conf.d/90assumeyes',\n",
              " '/etc/apt/apt.conf.d/20packagekit',\n",
              " '/etc/apt/keyrings',\n",
              " '/etc/apt/preferences.d',\n",
              " '/etc/apt/preferences.d/cuda-repository-pin-600']"
            ]
          },
          "metadata": {},
          "execution_count": 41
        }
      ]
    },
    {
      "cell_type": "code",
      "source": [
        "# Traverse the filesystem, sort the output, and assign to a Python variable\n",
        "files = !find /etc/apt -type f | sort\n",
        "files\n"
      ],
      "metadata": {
        "id": "zgsWcoDMfQgX",
        "colab": {
          "base_uri": "https://localhost:8080/"
        },
        "outputId": "0ba1f5e8-a529-494c-bf78-9dabe0fa04f8"
      },
      "execution_count": null,
      "outputs": [
        {
          "output_type": "execute_result",
          "data": {
            "text/plain": [
              "['/etc/apt/apt.conf.d/01autoremove',\n",
              " '/etc/apt/apt.conf.d/01-vendor-ubuntu',\n",
              " '/etc/apt/apt.conf.d/20packagekit',\n",
              " '/etc/apt/apt.conf.d/70debconf',\n",
              " '/etc/apt/apt.conf.d/90assumeyes',\n",
              " '/etc/apt/apt.conf.d/docker-autoremove-suggests',\n",
              " '/etc/apt/apt.conf.d/docker-clean',\n",
              " '/etc/apt/apt.conf.d/docker-disable-periodic-update',\n",
              " '/etc/apt/apt.conf.d/docker-gzip-indexes',\n",
              " '/etc/apt/apt.conf.d/docker-no-languages',\n",
              " '/etc/apt/preferences.d/cuda-repository-pin-600',\n",
              " '/etc/apt/sources.list',\n",
              " '/etc/apt/sources.list.d/archive_uri-https_cloud_r-project_org_bin_linux_ubuntu-jammy.list',\n",
              " '/etc/apt/sources.list.d/archive_uri-https_r2u_stat_illinois_edu_ubuntu-jammy.list',\n",
              " '/etc/apt/sources.list.d/cuda-ubuntu2204-x86_64.list',\n",
              " '/etc/apt/sources.list.d/deadsnakes-ubuntu-ppa-jammy.list',\n",
              " '/etc/apt/sources.list.d/graphics-drivers-ubuntu-ppa-jammy.list',\n",
              " '/etc/apt/sources.list.d/ubuntugis-ubuntu-ppa-jammy.list',\n",
              " '/etc/apt/trusted.gpg.d/cran_ubuntu_key.asc',\n",
              " '/etc/apt/trusted.gpg.d/deadsnakes-ubuntu-ppa.gpg',\n",
              " '/etc/apt/trusted.gpg.d/deadsnakes-ubuntu-ppa.gpg~',\n",
              " '/etc/apt/trusted.gpg.d/graphics-drivers-ubuntu-ppa.gpg',\n",
              " '/etc/apt/trusted.gpg.d/graphics-drivers-ubuntu-ppa.gpg~',\n",
              " '/etc/apt/trusted.gpg.d/r2u_key.asc',\n",
              " '/etc/apt/trusted.gpg.d/ubuntugis-ubuntu-ppa.gpg',\n",
              " '/etc/apt/trusted.gpg.d/ubuntugis-ubuntu-ppa.gpg~',\n",
              " '/etc/apt/trusted.gpg.d/ubuntu-keyring-2012-cdimage.gpg',\n",
              " '/etc/apt/trusted.gpg.d/ubuntu-keyring-2018-archive.gpg']"
            ]
          },
          "metadata": {},
          "execution_count": 42
        }
      ]
    },
    {
      "cell_type": "code",
      "source": [
        "# Create a subset list of files\n",
        "[ file for file in files if file.endswith(\"list\") ]\n"
      ],
      "metadata": {
        "id": "lDG3ps3LG1Ai",
        "colab": {
          "base_uri": "https://localhost:8080/"
        },
        "outputId": "84d9b910-3d7f-4af2-f9b3-b656af9d1aeb"
      },
      "execution_count": null,
      "outputs": [
        {
          "output_type": "execute_result",
          "data": {
            "text/plain": [
              "['/etc/apt/sources.list',\n",
              " '/etc/apt/sources.list.d/archive_uri-https_cloud_r-project_org_bin_linux_ubuntu-jammy.list',\n",
              " '/etc/apt/sources.list.d/archive_uri-https_r2u_stat_illinois_edu_ubuntu-jammy.list',\n",
              " '/etc/apt/sources.list.d/cuda-ubuntu2204-x86_64.list',\n",
              " '/etc/apt/sources.list.d/deadsnakes-ubuntu-ppa-jammy.list',\n",
              " '/etc/apt/sources.list.d/graphics-drivers-ubuntu-ppa-jammy.list',\n",
              " '/etc/apt/sources.list.d/ubuntugis-ubuntu-ppa-jammy.list']"
            ]
          },
          "metadata": {},
          "execution_count": 43
        }
      ]
    },
    {
      "cell_type": "code",
      "source": [
        "ls"
      ],
      "metadata": {
        "id": "pm9daVl4WKlq",
        "colab": {
          "base_uri": "https://localhost:8080/"
        },
        "outputId": "d6941334-eba5-405c-f425-45d83361429b"
      },
      "execution_count": null,
      "outputs": [
        {
          "output_type": "stream",
          "name": "stdout",
          "text": [
            "hw.txt  \u001b[0m\u001b[01;34msample_data\u001b[0m/\n"
          ]
        }
      ]
    },
    {
      "cell_type": "code",
      "source": [
        "# Capture both standard output (stdout) and standard error (stderr) to a variable \"data\"\n",
        "%%capture data\n",
        "!find ./sample_data/ | xargs -r -n1 file\n"
      ],
      "metadata": {
        "id": "z662P8H_KUQZ"
      },
      "execution_count": null,
      "outputs": []
    },
    {
      "cell_type": "code",
      "source": [
        "print(data.stderr)"
      ],
      "metadata": {
        "id": "no2VbgwsEuGn",
        "colab": {
          "base_uri": "https://localhost:8080/"
        },
        "outputId": "0363dbd4-b939-4e9c-dc66-6ccba9c94592"
      },
      "execution_count": null,
      "outputs": [
        {
          "output_type": "stream",
          "name": "stdout",
          "text": [
            "\n"
          ]
        }
      ]
    },
    {
      "cell_type": "code",
      "source": [
        "print(data.stdout)"
      ],
      "metadata": {
        "id": "dYxMJJc9WDvD",
        "colab": {
          "base_uri": "https://localhost:8080/"
        },
        "outputId": "6ec60866-5a0b-491b-9410-06be6fb11953"
      },
      "execution_count": null,
      "outputs": [
        {
          "output_type": "stream",
          "name": "stdout",
          "text": [
            "./sample_data/: directory\n",
            "./sample_data/anscombe.json: JSON data\n",
            "./sample_data/README.md: ASCII text\n",
            "./sample_data/california_housing_test.csv: CSV text\n",
            "./sample_data/mnist_train_small.csv: CSV text\n",
            "./sample_data/california_housing_train.csv: CSV text\n",
            "./sample_data/mnist_test.csv: CSV text\n",
            "\n"
          ]
        }
      ]
    },
    {
      "cell_type": "code",
      "source": [
        "# Use Python variable in shell commands\n",
        "foo = \"hello world\"\n",
        "!echo {foo}\n"
      ],
      "metadata": {
        "id": "esebw71BO3G5",
        "colab": {
          "base_uri": "https://localhost:8080/"
        },
        "outputId": "8a8ca298-9e78-49e0-dfa8-43d21f00d9ba"
      },
      "execution_count": null,
      "outputs": [
        {
          "output_type": "stream",
          "name": "stdout",
          "text": [
            "hello world\n"
          ]
        }
      ]
    },
    {
      "cell_type": "code",
      "source": [
        "!pwd"
      ],
      "metadata": {
        "colab": {
          "base_uri": "https://localhost:8080/"
        },
        "id": "l69B5J93D39y",
        "outputId": "546cdfe2-f01f-42b9-eb38-f2875190ccfa"
      },
      "execution_count": null,
      "outputs": [
        {
          "output_type": "stream",
          "name": "stdout",
          "text": [
            "/content\n"
          ]
        }
      ]
    },
    {
      "cell_type": "code",
      "source": [
        "# Python variables are not available in cell magics\n",
        "%%bash\n",
        "# foo = \"hello world\"\n",
        "echo {foo}\n"
      ],
      "metadata": {
        "id": "BQLBfz_HPEu8",
        "colab": {
          "base_uri": "https://localhost:8080/"
        },
        "outputId": "cd0fa4b2-bd25-4228-d1d2-89fe29a4291c"
      },
      "execution_count": null,
      "outputs": [
        {
          "output_type": "stream",
          "name": "stdout",
          "text": [
            "{foo}\n"
          ]
        },
        {
          "output_type": "stream",
          "name": "stderr",
          "text": [
            "bash: line 1: foo: command not found\n"
          ]
        }
      ]
    },
    {
      "cell_type": "code",
      "source": [
        "# Combining magics\n",
        "# Capture the output from installing extra software using the system package manager\n",
        "%%capture output\n",
        "%%bash\n",
        "apt-get update\n",
        "apt-get install -y ruby\n"
      ],
      "metadata": {
        "id": "ZhSREcWwgU55"
      },
      "execution_count": null,
      "outputs": []
    },
    {
      "cell_type": "code",
      "source": [
        "print(output.stdout)"
      ],
      "metadata": {
        "id": "YY2F5yDTIzGF",
        "collapsed": true
      },
      "execution_count": null,
      "outputs": []
    },
    {
      "cell_type": "code",
      "source": [
        "# Run a ruby script\n",
        "%%script ruby\n",
        "puts(\"hello\")\n"
      ],
      "metadata": {
        "id": "LB_7Le7FgRhr"
      },
      "execution_count": null,
      "outputs": []
    },
    {
      "cell_type": "code",
      "source": [
        "# List other magic commands\n",
        "%lsmagic\n"
      ],
      "metadata": {
        "id": "ikDvoXlvgrQF"
      },
      "execution_count": null,
      "outputs": []
    },
    {
      "cell_type": "code",
      "source": [
        "# Experiment with HTML\n",
        "%%html\n",
        "<html>\n",
        "  <body>\n",
        "    <h1>Hello world</h1>\n",
        "  </body>\n",
        "</html>\n"
      ],
      "metadata": {
        "id": "5-_R6vCIgyrh"
      },
      "execution_count": null,
      "outputs": []
    },
    {
      "cell_type": "code",
      "source": [
        "# Experiment with markdown\n",
        "%%markdown\n",
        "## Second heading\n",
        "hello world\n"
      ],
      "metadata": {
        "id": "jAhuM7lGhJuN"
      },
      "execution_count": null,
      "outputs": []
    },
    {
      "cell_type": "code",
      "source": [
        "%%javascript\n",
        "alert(\"hello world\")"
      ],
      "metadata": {
        "id": "lTRgfwCiWf1t"
      },
      "execution_count": null,
      "outputs": []
    },
    {
      "cell_type": "code",
      "source": [
        "# Show a cheat sheet of magic commands\n",
        "%quickref\n"
      ],
      "metadata": {
        "id": "E2HaARHbhWTc"
      },
      "execution_count": null,
      "outputs": []
    },
    {
      "cell_type": "markdown",
      "source": [
        "## Magic Aliases"
      ],
      "metadata": {
        "id": "v8gFtUdvPVK4"
      }
    },
    {
      "cell_type": "code",
      "source": [
        "?%alias"
      ],
      "metadata": {
        "id": "TWud7jYvC_I4"
      },
      "execution_count": null,
      "outputs": []
    },
    {
      "cell_type": "code",
      "source": [
        "%dir"
      ],
      "metadata": {
        "id": "IJHd4bQoPM3j"
      },
      "execution_count": null,
      "outputs": []
    },
    {
      "cell_type": "code",
      "source": [
        "%alias dir ls -la"
      ],
      "metadata": {
        "id": "2L3Kc-4rN77w"
      },
      "execution_count": null,
      "outputs": []
    },
    {
      "cell_type": "code",
      "source": [
        "%dir"
      ],
      "metadata": {
        "id": "reifjMhEPS5t"
      },
      "execution_count": null,
      "outputs": []
    },
    {
      "cell_type": "code",
      "source": [
        "%alias stitch cat"
      ],
      "metadata": {
        "id": "bVA7ulM_BAkU"
      },
      "execution_count": null,
      "outputs": []
    },
    {
      "cell_type": "code",
      "source": [
        "stitch /etc/passwd /etc/group"
      ],
      "metadata": {
        "id": "zt2hSZJ9BEXZ"
      },
      "execution_count": null,
      "outputs": []
    },
    {
      "cell_type": "code",
      "source": [
        "%alias type cat"
      ],
      "metadata": {
        "id": "ZzzuSwcABFdq"
      },
      "execution_count": null,
      "outputs": []
    },
    {
      "cell_type": "code",
      "source": [
        "%type /etc/passwd"
      ],
      "metadata": {
        "id": "-b108Py6Bp4O"
      },
      "execution_count": null,
      "outputs": []
    },
    {
      "cell_type": "markdown",
      "source": [
        "### Your turn"
      ],
      "metadata": {
        "id": "vmDg9hm5QGtK"
      }
    },
    {
      "cell_type": "markdown",
      "source": [
        "Using a mix of Python and Jupyter magics, answer these questions.\n",
        "\n",
        "- How many files do you have on your Google drive? ( or part of your Google Drive. )\n",
        "- Of those, how many are Jupyter notebooks? ( Jupyter notebooks have the extension \".ipynb\". )\n",
        "- If you were to randomly pick a file on your Google Drive, what's the probably that it is a Jupyter notebook?"
      ],
      "metadata": {
        "id": "FCJj5Te_QK-f"
      }
    },
    {
      "cell_type": "code",
      "source": [
        "# read only file without messing or mounting stuff into google drive.\n",
        "\n",
        "from google.colab import drive\n",
        "drive.mount('/content/drive',\n",
        "            readonly = True,\n",
        "            force_remount=True\n",
        "  )"
      ],
      "metadata": {
        "colab": {
          "base_uri": "https://localhost:8080/"
        },
        "id": "PZdzuyQaIsNx",
        "outputId": "ac15c1e8-12fd-47ca-f393-effc815d2803"
      },
      "execution_count": 69,
      "outputs": [
        {
          "output_type": "stream",
          "name": "stdout",
          "text": [
            "Mounted at /content/drive\n"
          ]
        }
      ]
    },
    {
      "cell_type": "code",
      "source": [
        "from google.colab import drive\n",
        "drive.mount('/content/drive')"
      ],
      "metadata": {
        "colab": {
          "base_uri": "https://localhost:8080/"
        },
        "id": "sqZ_1F22Gzhl",
        "outputId": "02ae7bd3-abd5-453b-8c66-9c2cf2233d5f"
      },
      "execution_count": 63,
      "outputs": [
        {
          "output_type": "stream",
          "name": "stdout",
          "text": [
            "Drive already mounted at /content/drive; to attempt to forcibly remount, call drive.mount(\"/content/drive\", force_remount=True).\n"
          ]
        }
      ]
    },
    {
      "cell_type": "code",
      "source": [
        "find = !find /content/drive -type f\n"
      ],
      "metadata": {
        "id": "DrnR_8mXE9Uo"
      },
      "execution_count": 66,
      "outputs": []
    },
    {
      "cell_type": "code",
      "source": [
        "len(find)"
      ],
      "metadata": {
        "colab": {
          "base_uri": "https://localhost:8080/"
        },
        "id": "TCrhp2APHEsb",
        "outputId": "6de077a0-4869-4476-91a2-4777c1c66673"
      },
      "execution_count": 67,
      "outputs": [
        {
          "output_type": "execute_result",
          "data": {
            "text/plain": [
              "477"
            ]
          },
          "metadata": {},
          "execution_count": 67
        }
      ]
    },
    {
      "cell_type": "code",
      "source": [
        "#count how many python notebook files\n",
        "\n",
        "count = 0\n",
        "for i in find:\n",
        "  if i.endswith('ipynb'):\n",
        "    count = count+1\n",
        "\n",
        "count"
      ],
      "metadata": {
        "colab": {
          "base_uri": "https://localhost:8080/"
        },
        "id": "1TMjh4kQHmhW",
        "outputId": "3913ef83-a3ca-4f07-dff0-d147be4b9f4f"
      },
      "execution_count": 68,
      "outputs": [
        {
          "output_type": "execute_result",
          "data": {
            "text/plain": [
              "81"
            ]
          },
          "metadata": {},
          "execution_count": 68
        }
      ]
    },
    {
      "cell_type": "code",
      "source": [],
      "metadata": {
        "id": "2GrfdshqIAJ7"
      },
      "execution_count": null,
      "outputs": []
    }
  ],
  "metadata": {
    "colab": {
      "provenance": [],
      "include_colab_link": true
    },
    "kernelspec": {
      "display_name": "Python 3",
      "name": "python3"
    },
    "language_info": {
      "name": "python"
    }
  },
  "nbformat": 4,
  "nbformat_minor": 0
}