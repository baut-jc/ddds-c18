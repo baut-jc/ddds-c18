{
  "nbformat": 4,
  "nbformat_minor": 0,
  "metadata": {
    "colab": {
      "private_outputs": true,
      "provenance": [],
      "authorship_tag": "ABX9TyNOKEXw3OMbcRRzKz8Zgux8",
      "include_colab_link": true
    },
    "kernelspec": {
      "name": "python3",
      "display_name": "Python 3"
    },
    "language_info": {
      "name": "python"
    }
  },
  "cells": [
    {
      "cell_type": "markdown",
      "metadata": {
        "id": "view-in-github",
        "colab_type": "text"
      },
      "source": [
        "<a href=\"https://colab.research.google.com/github/baut-jc/ddds-c18/blob/main/about_me.ipynb\" target=\"_parent\"><img src=\"https://colab.research.google.com/assets/colab-badge.svg\" alt=\"Open In Colab\"/></a>"
      ]
    },
    {
      "cell_type": "markdown",
      "source": [
        "#**Jocelle** or _Jo_\n",
        "######[linkedin](https://www.linkedin.com/in/jocelle-bautista/) | @Jocelle on [slack](https://deepdivecoding.slack.com/team/U08QM236AEN)\n",
        "\n",
        "<br>\n",
        "\n",
        "###Why did you sign up for this bootcamp?\n",
        "To get more technical knowledge and start looking into the Science of **DATA**, connect it with what I already know, and stretch myself creatively + technically... _and I have the _summer off_ !!\n",
        "\n",
        "\n",
        "\n",
        "###If you had your human body, but the head of an animal, what animal would you pick?\n",
        "![image info](https://ih1.redbubble.net/image.2398866498.5741/st,small,507x507-pad,600x600,f8f8f8.u1.jpg)\n",
        "\n",
        "\n",
        "###If you had to delete all but 3 apps from your smartphone, which ones would you <u>**keep**</u>?\n",
        "<ol>\n",
        "<li>Chrome</li>\n",
        "<li>Time</li>\n",
        "<li>Calculator</li>\n",
        "</ol>\n",
        "\n",
        "###What are your favorite podcasts? (Or if you're not a podcast person share your favorite tv show, music, or other category.)\n",
        "Faves| Title\n",
        " - | -\n",
        "TV currently| Love on the Spectrum\n",
        "Podcast| unLadyLike\n",
        "Music Genre | _Shuffle_ on my Pandora\n",
        "Snacks | everything\n",
        "\n",
        "###What sports/hobbies do you enjoy and why?\n",
        "<ul>snacking and eating</ul>\n",
        "<ul>art stuff</ul>\n",
        "<ul>outside things</ul>\n",
        "<ul>list goes on...</ul>\n"
      ],
      "metadata": {
        "id": "xvbys-qj-bF4"
      }
    },
    {
      "cell_type": "code",
      "source": [],
      "metadata": {
        "id": "zNNUAJlLDsl6"
      },
      "execution_count": null,
      "outputs": []
    }
  ]
}