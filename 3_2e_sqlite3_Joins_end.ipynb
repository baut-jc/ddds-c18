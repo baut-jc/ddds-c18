{
  "cells": [
    {
      "cell_type": "markdown",
      "metadata": {
        "id": "view-in-github",
        "colab_type": "text"
      },
      "source": [
        "<a href=\"https://colab.research.google.com/github/baut-jc/ddds-c18/blob/lectures/3_2e_sqlite3_Joins_end.ipynb\" target=\"_parent\"><img src=\"https://colab.research.google.com/assets/colab-badge.svg\" alt=\"Open In Colab\"/></a>"
      ]
    },
    {
      "cell_type": "markdown",
      "metadata": {
        "id": "Gv2ftGZHv8um"
      },
      "source": [
        "# Join Examples\n",
        "\n",
        "We are going to use the following website to practice SQL joins: https://www.w3schools.com/sql/trysqlserver.asp?filename=trysql_asc\n",
        "\n",
        "Joins are often described using [Venn diagrams]( https://www.w3schools.com/sql/sql_join.asp#:~:text=Different%20Types%20of%20SQL%20JOINs ).  Just be aware that using Venn diagrams can be misleading.  For example, there is no Venn diagram that describes a cross/cartesian join.\n",
        "\n"
      ]
    },
    {
      "cell_type": "markdown",
      "source": [
        "## Setup"
      ],
      "metadata": {
        "id": "lkbN2_bwYaQp"
      }
    },
    {
      "cell_type": "code",
      "execution_count": null,
      "metadata": {
        "id": "65anBhbi11CF"
      },
      "outputs": [],
      "source": [
        "%%capture\n",
        "%%bash\n",
        "apt-get update\n",
        "apt-get install -y sqlite3\n"
      ]
    },
    {
      "cell_type": "code",
      "execution_count": null,
      "metadata": {
        "id": "dFxdXsKp2E2Y",
        "colab": {
          "base_uri": "https://localhost:8080/"
        },
        "outputId": "50174800-0e7b-45da-81e5-910252c813e4"
      },
      "outputs": [
        {
          "output_type": "stream",
          "name": "stdout",
          "text": [
            "Usage: sqlite3 [OPTIONS] FILENAME [SQL]\n",
            "FILENAME is the name of an SQLite database. A new database is created\n",
            "if the file does not previously exist.\n",
            "OPTIONS include:\n",
            "   -A ARGS...           run \".archive ARGS\" and exit\n",
            "   -append              append the database to the end of the file\n",
            "   -ascii               set output mode to 'ascii'\n",
            "   -bail                stop after hitting an error\n",
            "   -batch               force batch I/O\n",
            "   -box                 set output mode to 'box'\n",
            "   -column              set output mode to 'column'\n",
            "   -cmd COMMAND         run \"COMMAND\" before reading stdin\n",
            "   -csv                 set output mode to 'csv'\n",
            "   -deserialize         open the database using sqlite3_deserialize()\n",
            "   -echo                print commands before execution\n",
            "   -init FILENAME       read/process named file\n",
            "   -[no]header          turn headers on or off\n",
            "   -help                show this message\n",
            "   -html                set output mode to HTML\n",
            "   -interactive         force interactive I/O\n",
            "   -json                set output mode to 'json'\n",
            "   -line                set output mode to 'line'\n",
            "   -list                set output mode to 'list'\n",
            "   -lookaside SIZE N    use N entries of SZ bytes for lookaside memory\n",
            "   -markdown            set output mode to 'markdown'\n",
            "   -maxsize N           maximum size for a --deserialize database\n",
            "   -memtrace            trace all memory allocations and deallocations\n",
            "   -mmap N              default mmap size set to N\n",
            "   -newline SEP         set output row separator. Default: '\\n'\n",
            "   -nofollow            refuse to open symbolic links to database files\n",
            "   -nonce STRING        set the safe-mode escape nonce\n",
            "   -nullvalue TEXT      set text string for NULL values. Default ''\n",
            "   -pagecache SIZE N    use N slots of SZ bytes each for page cache memory\n",
            "   -quote               set output mode to 'quote'\n",
            "   -readonly            open the database read-only\n",
            "   -safe                enable safe-mode\n",
            "   -separator SEP       set output column separator. Default: '|'\n",
            "   -stats               print memory stats before each finalize\n",
            "   -table               set output mode to 'table'\n",
            "   -tabs                set output mode to 'tabs'\n",
            "   -version             show SQLite version\n",
            "   -vfs NAME            use NAME as the default VFS\n",
            "   -zip                 open the file as a ZIP Archive\n",
            "3.37.2 2022-01-06 13:25:41 872ba256cbf61d9290b571c0e6d82a20c224ca3ad82971edc46b29818d5dalt1\n"
          ]
        }
      ],
      "source": [
        "!sqlite3 --help\n",
        "!sqlite3 --version"
      ]
    },
    {
      "cell_type": "code",
      "execution_count": null,
      "metadata": {
        "id": "6PAFInZXyjBO"
      },
      "outputs": [],
      "source": [
        "import pandas as pd\n",
        "import markdown\n",
        "import base64\n"
      ]
    },
    {
      "cell_type": "code",
      "source": [
        "!curl -s -o people.sql3 http://ddc-datascience.s3-website-us-west-1.amazonaws.com/people.sqlite3.db\n"
      ],
      "metadata": {
        "id": "GC37_SYSX7Tz"
      },
      "execution_count": null,
      "outputs": []
    },
    {
      "cell_type": "code",
      "source": [
        "!ls -l"
      ],
      "metadata": {
        "id": "gBTyYBRsYAZX",
        "colab": {
          "base_uri": "https://localhost:8080/"
        },
        "outputId": "8cbb0d06-b8e5-403d-9346-263532918c75"
      },
      "execution_count": null,
      "outputs": [
        {
          "output_type": "stream",
          "name": "stdout",
          "text": [
            "total 16\n",
            "-rw-r--r-- 1 root root 12288 Jun 17 20:12 people.sql3\n",
            "drwxr-xr-x 1 root root  4096 Jun 16 13:32 sample_data\n"
          ]
        }
      ]
    },
    {
      "cell_type": "code",
      "execution_count": null,
      "metadata": {
        "id": "i-shVE5pSevB",
        "colab": {
          "base_uri": "https://localhost:8080/"
        },
        "outputId": "520dcd70-1178-4a64-d898-b5c7cd3789d1"
      },
      "outputs": [
        {
          "output_type": "stream",
          "name": "stdout",
          "text": [
            "CREATE TABLE IF NOT EXISTS \"people\"(\n",
            "  \"id\" TEXT,\n",
            "  \"name\" TEXT,\n",
            "  \"age\" TEXT,\n",
            "  \"city\" TEXT\n",
            ");\n",
            "CREATE TABLE IF NOT EXISTS \"cities\"(\n",
            "  \"id\" TEXT,\n",
            "  \"city\" TEXT,\n",
            "  \"state\" TEXT,\n",
            "  \"population\" TEXT\n",
            ");\n"
          ]
        }
      ],
      "source": [
        "# Look at the schema\n",
        "%%script sqlite3 --column --header people.sql3\n",
        ".schema\n"
      ]
    },
    {
      "cell_type": "code",
      "execution_count": null,
      "metadata": {
        "id": "yFv1fPsJHmsf",
        "colab": {
          "base_uri": "https://localhost:8080/"
        },
        "outputId": "3f6a9187-b05c-4d08-c53e-d0336c9dad25"
      },
      "outputs": [
        {
          "output_type": "stream",
          "name": "stdout",
          "text": [
            "id  city         state  population\n",
            "--  -----------  -----  ----------\n",
            "1   Tijeras      NM     987       \n",
            "2   Albuquerque  NM     8776      \n",
            "3   Santa Fe     NM     907       \n",
            "4   Durango      CO     9         \n",
            "id  name      age  city       \n",
            "--  --------  ---  -----------\n",
            "1   Joe       5    Durango    \n",
            "2   Alice     55   Albuquerque\n",
            "3   Veronica  105  Albuquerque\n",
            "4   Matt      43              \n",
            "id  name  age  city\n",
            "--  ----  ---  ----\n",
            "4   Matt  43       \n"
          ]
        }
      ],
      "source": [
        "# Verify the data\n",
        "%%script sqlite3 --column --header people.sql3\n",
        "select * from cities ;\n",
        "select * from people ;\n",
        "select * from people where city is null ;\n"
      ]
    },
    {
      "cell_type": "markdown",
      "metadata": {
        "id": "x6SUtV7WYo6L"
      },
      "source": [
        "# Joins"
      ]
    },
    {
      "cell_type": "markdown",
      "metadata": {
        "id": "pR_fJSN5fEL9"
      },
      "source": [
        "## Cross or Cartesian Join\n",
        "\n",
        "A join of both tables that returns ALL rows from the left table paired with ALL the rows from the right table. This results in a table of size p x q, where p is the number of rows in the left table and q is the number of rows in the right table."
      ]
    },
    {
      "cell_type": "markdown",
      "metadata": {
        "id": "_Y1ShNqIfwJX"
      },
      "source": [
        "### Cross or Cartesian Join Syntax\n",
        "\n",
        "`SELECT * FROM people JOIN cities`\n",
        "\n",
        "or\n",
        "\n",
        "`SELECT * FROM people, cities `\n",
        "\n",
        "\n"
      ]
    },
    {
      "cell_type": "markdown",
      "metadata": {
        "id": "VECDytR2B-9n"
      },
      "source": [
        "### Cross or Cartesian Join Example\n"
      ]
    },
    {
      "cell_type": "code",
      "execution_count": null,
      "metadata": {
        "id": "JhiqfO76ZeU7"
      },
      "outputs": [],
      "source": [
        "# A cross/cartesian join\n",
        "%%script sqlite3 --column --header people.sql3\n",
        "SELECT *\n",
        "FROM people\n",
        "JOIN cities #creates 'people' column to include every 'cities'\n",
        ";\n"
      ]
    },
    {
      "cell_type": "code",
      "execution_count": null,
      "metadata": {
        "id": "fhiPAfXajTU6"
      },
      "outputs": [],
      "source": [
        "# A cross/cartesian join\n",
        "%%script sqlite3 --column --header people.sql3\n",
        "SELECT *\n",
        "FROM people, cities\n",
        ";\n"
      ]
    },
    {
      "cell_type": "markdown",
      "metadata": {
        "id": "0PyRlFBS-Vjz"
      },
      "source": [
        "## Inner Join\n",
        "Inner join returns data where there are matching records in both tables. There must be some matching data in the two (or more) tables that are being joined. In the above example, we can perform an inner join on the people and cities tables because they have the city column in common.\n",
        "An inner join on cities will only return the cities they both have in common.\n",
        "\n"
      ]
    },
    {
      "cell_type": "markdown",
      "metadata": {
        "id": "k_PpDiRrBgS7"
      },
      "source": [
        "### Inner Join Syntax\n",
        "\n",
        "```\n",
        "SELECT *\n",
        "FROM people\n",
        "INNER JOIN cities\n",
        "ON people.city = cities.city\n",
        "```\n",
        "\n",
        "or\n",
        "\n",
        "```\n",
        "SELECT *\n",
        "FROM people, cities\n",
        "WHERE people.city = cities.city\n",
        "```\n"
      ]
    },
    {
      "cell_type": "markdown",
      "metadata": {
        "id": "TedjnTnR-7uy"
      },
      "source": [
        "### Inner Join Example\n"
      ]
    },
    {
      "cell_type": "markdown",
      "metadata": {
        "id": "ZC37M2FuFf_6"
      },
      "source": [
        "[Inner Join](https://www.w3schools.com/sql/sql_join_inner.asp)"
      ]
    },
    {
      "cell_type": "code",
      "execution_count": null,
      "metadata": {
        "id": "P-Xt55YcZF-v"
      },
      "outputs": [],
      "source": [
        "# Inner Join\n",
        "%%script sqlite3 --column --header people.sql3\n",
        "SELECT *\n",
        "FROM people\n",
        "INNER JOIN cities\n",
        "ON people.city = cities.city\n",
        ";\n"
      ]
    },
    {
      "cell_type": "code",
      "execution_count": null,
      "metadata": {
        "id": "Vak7J0-nixcA"
      },
      "outputs": [],
      "source": [
        "# Cross Join with conditional\n",
        "%%script sqlite3 --column --header people.sql3\n",
        "SELECT *\n",
        "FROM people as p , cities as c\n",
        "WHERE p.city = c.city\n",
        ";\n"
      ]
    },
    {
      "cell_type": "code",
      "source": [
        "# Inner Join\n",
        "%%script sqlite3 --column --header people.sql3\n",
        "SELECT *\n",
        "FROM people\n",
        "INNER JOIN cities\n",
        "ON people.age+0 < cities.population+0\n",
        ";\n"
      ],
      "metadata": {
        "id": "cIaprFKR3-01"
      },
      "execution_count": null,
      "outputs": []
    },
    {
      "cell_type": "code",
      "source": [
        "# Cross Join with conditional\n",
        "%%script sqlite3 --column --header people.sql3\n",
        "SELECT *\n",
        "FROM people, cities\n",
        "WHERE people.age+0 < cities.population+0\n",
        ";\n"
      ],
      "metadata": {
        "id": "8ILOk2ltDKIy"
      },
      "execution_count": null,
      "outputs": []
    },
    {
      "cell_type": "markdown",
      "metadata": {
        "id": "-PT55oEfA05S"
      },
      "source": [
        "## Outer Join\n",
        "\n",
        "An outer join can be made on the left or right table.\n",
        "An outer join from the left table returns ALL rows from the left table and nulls for columns on the right table if no entries match."
      ]
    },
    {
      "cell_type": "markdown",
      "metadata": {
        "id": "K3SJwNjsA_49"
      },
      "source": [
        "### Outer Join Syntax\n",
        "\n",
        "```\n",
        "SELECT *\n",
        "FROM people\n",
        "LEFT JOIN cities\n",
        "ON people.city = cities.city\n",
        "```"
      ]
    },
    {
      "cell_type": "markdown",
      "metadata": {
        "id": "t51qhX7rBHkT"
      },
      "source": [
        "### Outer Join Example\n",
        "\n",
        "[Left Join](https://www.w3schools.com/sql/sql_join_left.asp)\n",
        "\n",
        "[Right Join](https://www.w3schools.com/sql/sql_join_right.asp)"
      ]
    },
    {
      "cell_type": "code",
      "execution_count": null,
      "metadata": {
        "id": "Fx7Os_PQZVZl"
      },
      "outputs": [],
      "source": [
        "# Left outer join\n",
        "%%script sqlite3 --column --header people.sql3\n",
        "SELECT *\n",
        "FROM people\n",
        "LEFT JOIN cities\n",
        "ON people.city = cities.city\n",
        ";\n"
      ]
    },
    {
      "cell_type": "code",
      "source": [
        "# Left outer join\n",
        "%%script sqlite3 --column --header people.sql3\n",
        "SELECT *\n",
        "FROM cities\n",
        "LEFT JOIN people\n",
        "ON people.city = cities.city\n",
        "-- WHERE people.name IS NULL\n",
        ";\n"
      ],
      "metadata": {
        "id": "ZwqN_eB0Er-U"
      },
      "execution_count": null,
      "outputs": []
    },
    {
      "cell_type": "markdown",
      "metadata": {
        "id": "FbJBfnvhnphY"
      },
      "source": [
        "## Full Outer Join\n",
        "\n",
        "A full outer join contains all rows unique to the left table, all rows unique to the right table, and all rows that match an inner join between the two tables.\n"
      ]
    },
    {
      "cell_type": "markdown",
      "metadata": {
        "id": "fV8N0nSunphZ"
      },
      "source": [
        "### Full Outer Join Syntax\n",
        "\n",
        "```\n",
        "SELECT *\n",
        "FROM people\n",
        "FULL OUTER JOIN cities\n",
        "ON people.city = cities.city\n",
        "```\n",
        "\n",
        "or to emulate on those SQL systems that do not support a full outer join ( e.g. SQLite3. )\n",
        "\n",
        "```\n",
        "SELECT people.*, cities.*\n",
        "FROM people\n",
        "LEFT JOIN cities\n",
        "ON people.city = cities.city\n",
        "\n",
        "UNION\n",
        "\n",
        "SELECT people.*, cities.*\n",
        "FROM cities\n",
        "LEFT JOIN people\n",
        "ON people.city = cities.city\n",
        "```\n",
        "\n",
        "\n",
        "\n"
      ]
    },
    {
      "cell_type": "markdown",
      "metadata": {
        "id": "_cL-DYI3nphZ"
      },
      "source": [
        "### Full Outer Join Example\n",
        "\n",
        "[Full Outer Join](https://www.w3schools.com/sql/sql_join_full.asp)"
      ]
    },
    {
      "cell_type": "code",
      "execution_count": null,
      "metadata": {
        "id": "crUB4eGNz5_2"
      },
      "outputs": [],
      "source": [
        "# Full outer join\n",
        "%%script sqlite3 --column --header people.sql3\n",
        "SELECT people.*, cities.*\n",
        "FROM people\n",
        "LEFT JOIN cities\n",
        "ON people.city = cities.city\n",
        ";\n",
        "SELECT people.*, cities.*\n",
        "FROM cities\n",
        "LEFT JOIN people\n",
        "ON people.city = cities.city\n",
        "ORDER BY people.id\n",
        ";\n"
      ]
    },
    {
      "cell_type": "code",
      "execution_count": null,
      "metadata": {
        "id": "GgBpKxIxnpha"
      },
      "outputs": [],
      "source": [
        "# Full outer join\n",
        "%%script sqlite3 --column --header people.sql3\n",
        "SELECT people.*, cities.*\n",
        "FROM people\n",
        "LEFT JOIN cities\n",
        "ON people.city = cities.city\n",
        "\n",
        "UNION ALL\n",
        "\n",
        "SELECT people.*, cities.*\n",
        "FROM cities\n",
        "LEFT JOIN people\n",
        "ON people.city = cities.city\n",
        "ORDER BY people.id\n",
        ";\n"
      ]
    },
    {
      "cell_type": "code",
      "source": [
        "# Full outer join\n",
        "%%script sqlite3 --column --header people.sql3\n",
        "SELECT people.*, cities.*\n",
        "FROM people\n",
        "LEFT JOIN cities\n",
        "ON people.city = cities.city\n",
        "\n",
        "UNION\n",
        "\n",
        "SELECT people.*, cities.*\n",
        "FROM cities\n",
        "LEFT JOIN people\n",
        "ON people.city = cities.city\n",
        "ORDER BY people.id\n",
        ";\n"
      ],
      "metadata": {
        "id": "eGzEUlQNFhv2"
      },
      "execution_count": null,
      "outputs": []
    },
    {
      "cell_type": "markdown",
      "metadata": {
        "id": "iF6AEA16j5yT"
      },
      "source": [
        "## Self Join\n",
        "\n",
        "A self join is when a table is joined with itself.  This is usefull when rows in a table are to be compared with other rows in the table.  For example, finding people who are in the same city."
      ]
    },
    {
      "cell_type": "markdown",
      "metadata": {
        "id": "ZsdJz1likGL_"
      },
      "source": [
        "### Self Join Syntax\n",
        "\n",
        "```\n",
        "SELECT *\n",
        "FROM people p1, people p2\n",
        "```\n",
        "\n",
        "or\n",
        "\n",
        "```\n",
        "SELECT *\n",
        "FROM people as p1\n",
        "JOIN people as p2\n",
        "```\n",
        "\n",
        "\n",
        "\n"
      ]
    },
    {
      "cell_type": "markdown",
      "metadata": {
        "id": "Bafbn-RVBnYH"
      },
      "source": [
        "### Self Join Example\n",
        "\n",
        "[Self Join](https://www.w3schools.com/sql/sql_join_self.asp)\n"
      ]
    },
    {
      "cell_type": "code",
      "source": [
        "# Self join\n",
        "%%script sqlite3 --column --header people.sql3\n",
        "SELECT *\n",
        "FROM people as p1\n"
      ],
      "metadata": {
        "id": "0-EsoJI2LQBD"
      },
      "execution_count": null,
      "outputs": []
    },
    {
      "cell_type": "code",
      "source": [
        "# Self join\n",
        "%%script sqlite3 --column --header people.sql3\n",
        "SELECT *\n",
        "FROM people as p1, people as p2\n"
      ],
      "metadata": {
        "id": "YfoHlnA3GN2J"
      },
      "execution_count": null,
      "outputs": []
    },
    {
      "cell_type": "code",
      "source": [
        "# Self join\n",
        "%%script sqlite3 --column --header people.sql3\n",
        "SELECT *\n",
        "FROM people as p1, people as p2\n",
        "WHERE p1.city == p2.city\n",
        ";\n"
      ],
      "metadata": {
        "id": "NIA5mblOECTV"
      },
      "execution_count": null,
      "outputs": []
    },
    {
      "cell_type": "code",
      "source": [
        "# Self join\n",
        "%%script sqlite3 --column --header people.sql3\n",
        "SELECT *\n",
        "FROM people as p1, people as p2\n",
        "WHERE p1.city == p2.city\n",
        "  AND p1.id != p2.id\n",
        ";\n"
      ],
      "metadata": {
        "id": "h3FWIDTsEVYL"
      },
      "execution_count": null,
      "outputs": []
    },
    {
      "cell_type": "code",
      "execution_count": null,
      "metadata": {
        "id": "vj2wLEMej448"
      },
      "outputs": [],
      "source": [
        "# Self join\n",
        "%%script sqlite3 --column --header people.sql3\n",
        "SELECT p1.*\n",
        "FROM people as p1, people as p2\n",
        "WHERE p1.city == p2.city\n",
        "  AND p1.id != p2.id\n",
        ";\n"
      ]
    },
    {
      "cell_type": "markdown",
      "metadata": {
        "id": "Ohb7UkS74kJQ"
      },
      "source": [
        "## `ON` vs `WHERE` in Joins\n",
        "\n",
        "It seems like using an `ON` conditional outputs the same result as a `WHERE`.  And it does, when using an `INNER JOIN`.  However, when using an `OUTER JOIN`, the results differ."
      ]
    },
    {
      "cell_type": "markdown",
      "metadata": {
        "id": "Z3NSITls8lON"
      },
      "source": [
        "### `ON` vs `WHERE` Example\n"
      ]
    },
    {
      "cell_type": "code",
      "execution_count": null,
      "metadata": {
        "id": "l3f0XQ6B-miW"
      },
      "outputs": [],
      "source": [
        "# ON vs WHERE -- INNER JOIN\n",
        "%%script sqlite3 --column --header people.sql3\n",
        "-- ON\n",
        "SELECT *\n",
        "FROM people\n",
        "JOIN cities\n",
        "ON people.city == cities.city\n",
        ";\n",
        "\n",
        "-- WHERE\n",
        "SELECT *\n",
        "FROM people\n",
        "JOIN cities\n",
        "WHERE people.city == cities.city\n",
        ";\n",
        "\n"
      ]
    },
    {
      "cell_type": "code",
      "execution_count": null,
      "metadata": {
        "id": "Rfk0_7ub4tMV"
      },
      "outputs": [],
      "source": [
        "# ON vs WHERE -- OUTER JOIN\n",
        "%%script sqlite3 --column --header people.sql3\n",
        "-- ON\n",
        "SELECT *\n",
        "FROM people\n",
        "LEFT JOIN cities\n",
        "ON people.city == cities.city\n",
        ";\n",
        "\n",
        "-- WHERE\n",
        "SELECT *\n",
        "FROM people\n",
        "LEFT JOIN cities\n",
        "WHERE people.city == cities.city\n",
        ";\n"
      ]
    },
    {
      "cell_type": "markdown",
      "metadata": {
        "id": "0MFA6mWMDI95"
      },
      "source": [
        "## Union\n",
        "Combines ( stacks ) columns from two data sets.  By default, only unique rows are returned.  Use the ALL keyword to keep duplicates."
      ]
    },
    {
      "cell_type": "markdown",
      "metadata": {
        "id": "IEjM9Ig4DbKa"
      },
      "source": [
        "### Union Syntax\n",
        "\n",
        "```\n",
        "SELECT city FROM people\n",
        "UNION\n",
        "SELECT city FROM cities\n",
        ";\n",
        "```"
      ]
    },
    {
      "cell_type": "markdown",
      "metadata": {
        "id": "uHCUAKfgDdJb"
      },
      "source": [
        "### Union Example\n",
        "\n",
        "[Union](https://www.w3schools.com/sql/sql_union.asp)"
      ]
    },
    {
      "cell_type": "code",
      "execution_count": null,
      "metadata": {
        "id": "asCTRonvDysD"
      },
      "outputs": [],
      "source": [
        "# Union\n",
        "%%script sqlite3 --column --header people.sql3\n",
        "SELECT city FROM people\n",
        "UNION\n",
        "SELECT city FROM cities\n",
        ";\n"
      ]
    },
    {
      "cell_type": "code",
      "execution_count": null,
      "metadata": {
        "id": "SyVk3Rjpzq4y"
      },
      "outputs": [],
      "source": [
        "# Union\n",
        "%%script sqlite3 --column --header people.sql3\n",
        "SELECT * FROM people\n",
        "UNION\n",
        "SELECT * FROM people\n",
        ";\n"
      ]
    },
    {
      "cell_type": "code",
      "execution_count": null,
      "metadata": {
        "id": "oWZctdmXzvvw"
      },
      "outputs": [],
      "source": [
        "# Union all\n",
        "%%script sqlite3 --column --header people.sql3\n",
        "SELECT * FROM people\n",
        "UNION ALL\n",
        "SELECT * FROM people\n",
        ";\n"
      ]
    },
    {
      "cell_type": "code",
      "source": [
        "# Union all\n",
        "%%script sqlite3 --column --header people.sql3\n",
        "SELECT * FROM people ;\n",
        "SELECT * FROM cities ;\n",
        "\n",
        "SELECT * FROM people\n",
        "UNION ALL\n",
        "SELECT * FROM cities\n",
        ";\n"
      ],
      "metadata": {
        "id": "7CbXoYmNMqDv"
      },
      "execution_count": null,
      "outputs": []
    },
    {
      "cell_type": "code",
      "source": [
        "# Union all\n",
        "%%script sqlite3 --column --header people.sql3\n",
        "SELECT * FROM people\n",
        "UNION ALL\n",
        "SELECT * FROM cities\n",
        ";\n"
      ],
      "metadata": {
        "id": "bR-fu6OrNFJS"
      },
      "execution_count": null,
      "outputs": []
    },
    {
      "cell_type": "markdown",
      "metadata": {
        "id": "Hn7ehO5U8mPN"
      },
      "source": [
        "## Join tips"
      ]
    },
    {
      "cell_type": "markdown",
      "metadata": {
        "id": "12i0Musx8pWW"
      },
      "source": [
        "### Start small, building up the query\n",
        "\n",
        "Start with a cross join of a ***small*** data set first, then build up the query by adding conditionals and adjusting the fields.\n"
      ]
    },
    {
      "cell_type": "code",
      "execution_count": null,
      "metadata": {
        "id": "yuCc_BDSkxmS"
      },
      "outputs": [],
      "source": [
        "# Step 1\n",
        "%%script sqlite3 --column --header people.sql3\n",
        "SELECT *\n",
        "FROM people as p1, people as p2\n",
        ";\n"
      ]
    },
    {
      "cell_type": "code",
      "execution_count": null,
      "metadata": {
        "id": "PR5xdi2d9Fgo"
      },
      "outputs": [],
      "source": [
        "# Step 2\n",
        "%%script sqlite3 --column --header people.sql3\n",
        "SELECT *\n",
        "FROM people as p1, people as p2\n",
        "WHERE p1.city == p2.city\n",
        ";\n"
      ]
    },
    {
      "cell_type": "code",
      "execution_count": null,
      "metadata": {
        "id": "KH-FGhxb9K9o"
      },
      "outputs": [],
      "source": [
        "# Step 3\n",
        "%%script sqlite3 --column --header people.sql3\n",
        "SELECT *\n",
        "FROM people as p1, people as p2\n",
        "WHERE p1.city == p2.city\n",
        "  AND p1.id != p2.id\n",
        ";\n"
      ]
    },
    {
      "cell_type": "code",
      "execution_count": null,
      "metadata": {
        "id": "7QOAVAAF9aNp"
      },
      "outputs": [],
      "source": [
        "# Step 4\n",
        "%%script sqlite3 --column --header people.sql3\n",
        "SELECT p1.*\n",
        "FROM people as p1, people as p2\n",
        "WHERE p1.city == p2.city\n",
        "  AND p1.id != p2.id\n",
        ";\n"
      ]
    },
    {
      "cell_type": "markdown",
      "metadata": {
        "id": "Jy5hvk_x_uBi"
      },
      "source": [
        "### Create synthetic data sets"
      ]
    },
    {
      "cell_type": "code",
      "source": [
        "%%script sqlite3 --column --header\n",
        "-- A single number\n",
        "SELECT 1 as \"Number\"\n",
        ";\n"
      ],
      "metadata": {
        "id": "uZ3TWQU685vz"
      },
      "execution_count": null,
      "outputs": []
    },
    {
      "cell_type": "code",
      "source": [
        "%%script sqlite3 --column --header\n",
        "-- A series of numbers\n",
        "select 0 as \"Number\"\n",
        "union all\n",
        "values (1),(2),(3),(2)\n",
        ";\n"
      ],
      "metadata": {
        "id": "KaX046Kp8719"
      },
      "execution_count": null,
      "outputs": []
    },
    {
      "cell_type": "code",
      "execution_count": null,
      "metadata": {
        "id": "Bq2V-27b-ZoA"
      },
      "outputs": [],
      "source": [
        "%%script sqlite3 --column --header\n",
        "--  A series of numbers using a CTE\n",
        "with recursive Numbers as (. #a number that goes through itself.\n",
        "    select 0 as \"Number\"\n",
        "  union all\n",
        "    select Number + 1\n",
        "    from Numbers\n",
        "    where Number < 3\n",
        ")\n",
        "select *\n",
        "from Numbers n1, Numbers n2\n",
        ";\n"
      ]
    },
    {
      "cell_type": "code",
      "execution_count": null,
      "metadata": {
        "id": "9DgmGbEV5NBJ"
      },
      "outputs": [],
      "source": [
        "%%script sqlite3 --column --header\n",
        "# magic commad starts with '%%' to initiate magic environment within jupyter\n",
        "\n",
        ".help\n"
      ]
    },
    {
      "cell_type": "code",
      "source": [
        "%%script sqlite3 --column --header people.sql3\n",
        ".schema\n",
        "\n"
      ],
      "metadata": {
        "id": "PZgWoJgHMTlf"
      },
      "execution_count": null,
      "outputs": []
    },
    {
      "cell_type": "code",
      "execution_count": null,
      "metadata": {
        "id": "Zha7_hv5_lAu"
      },
      "outputs": [],
      "source": [
        "%%script sqlite3 --column --header people.sql3\n",
        ".dump\n",
        "\n",
        "# create and work with a database to replicate and fix the data.\n",
        "# replicate data for experimentation (copying a database)\n",
        "# provides everything in the data with it's pristine state without interruption."
      ]
    },
    {
      "cell_type": "code",
      "source": [
        "!rm -f people.v02.sql3"
      ],
      "metadata": {
        "id": "CTMwTQM6-wPA"
      },
      "execution_count": null,
      "outputs": []
    },
    {
      "cell_type": "code",
      "source": [
        "ls -la"
      ],
      "metadata": {
        "id": "slTXg3GGMf_P"
      },
      "execution_count": null,
      "outputs": []
    },
    {
      "cell_type": "code",
      "execution_count": null,
      "metadata": {
        "id": "yy-hJvthALDN"
      },
      "outputs": [],
      "source": [
        "%%script sqlite3 --column --header people.v02.sql3\n",
        "PRAGMA foreign_keys=OFF;\n",
        "BEGIN TRANSACTION;\n",
        "CREATE TABLE IF NOT EXISTS \"people\"(\n",
        "  \"id\" TEXT,\n",
        "  \"name\" TEXT,\n",
        "  \"age\" TEXT,\n",
        "  \"city\" TEXT\n",
        ");\n",
        "INSERT INTO people VALUES('1','Joe','5','Durango');\n",
        "INSERT INTO people VALUES('2','Alice','55','Albuquerque');\n",
        "INSERT INTO people VALUES('3','Veronica','105','Albuquerque');\n",
        "INSERT INTO people VALUES('4','Matt','43',NULL);\n",
        "CREATE TABLE IF NOT EXISTS \"cities\"(\n",
        "  \"id\" TEXT,\n",
        "  \"city\" TEXT,\n",
        "  \"state\" TEXT,\n",
        "  \"population\" TEXT\n",
        ");\n",
        "INSERT INTO cities VALUES('1','Tijeras','NM','987');\n",
        "INSERT INTO cities VALUES('2','Albuquerque','NM','8776');\n",
        "INSERT INTO cities VALUES('3','Santa Fe','NM','907');\n",
        "INSERT INTO cities VALUES('4','Durango','CO','9');\n",
        "COMMIT;\n",
        "\n",
        "\n",
        ".schema"
      ]
    },
    {
      "cell_type": "code",
      "execution_count": null,
      "metadata": {
        "id": "l1Bbg_hsApMB"
      },
      "outputs": [],
      "source": [
        "!ls -l"
      ]
    },
    {
      "cell_type": "code",
      "source": [],
      "metadata": {
        "id": "kD9k237A-8SG"
      },
      "execution_count": null,
      "outputs": []
    }
  ],
  "metadata": {
    "colab": {
      "provenance": [],
      "toc_visible": true,
      "include_colab_link": true
    },
    "kernelspec": {
      "display_name": "Python 3",
      "name": "python3"
    }
  },
  "nbformat": 4,
  "nbformat_minor": 0
}