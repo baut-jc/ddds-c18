{
  "cells": [
    {
      "cell_type": "markdown",
      "metadata": {
        "id": "view-in-github",
        "colab_type": "text"
      },
      "source": [
        "<a href=\"https://colab.research.google.com/github/baut-jc/ddds-c18/blob/lectures/3_2d_sqlite3_Selects_end.ipynb\" target=\"_parent\"><img src=\"https://colab.research.google.com/assets/colab-badge.svg\" alt=\"Open In Colab\"/></a>"
      ]
    },
    {
      "cell_type": "markdown",
      "metadata": {
        "id": "MNg5Ixy-KHa_"
      },
      "source": [
        "# Part 1: SQL Overview & Syntax"
      ]
    },
    {
      "cell_type": "markdown",
      "metadata": {
        "id": "kf63gD0bYUgY"
      },
      "source": [
        "## SQL Overview"
      ]
    },
    {
      "cell_type": "markdown",
      "metadata": {
        "id": "8AMDdcjiYctl"
      },
      "source": [
        "**Structured Query Language - Databases!!**\n",
        "\n",
        "**Why do we care?**\n",
        "- Lots of data is available in SQL databases\n",
        "- You may be tasked with using this data and you have to be able to get it out of the database.\n",
        "- Efficient storage and retrieval of records\n",
        "- Good for storing MASSIVE amounts of data.\n",
        "- You may want to make your own SQL database at some point\n",
        "\n",
        "\n",
        "**Lots of things you can do with SQL:**\n",
        "- SELECT (get data) - This is what we'll focus on - Getting Data\n",
        "- CREATE - Make tables\n",
        "- INSERT - Add data to a table\n",
        "- UPDATE - Update data in a table\n",
        "- ALTER - Change a table\n",
        "- DROP - Delete a table\n",
        "- DELETE - Delete data from a table"
      ]
    },
    {
      "cell_type": "markdown",
      "metadata": {
        "id": "fTZ3vf2bdl-v"
      },
      "source": [
        "We are going to use the following websites to practice SQL queries:\n",
        "- [MySQL]( https://www.w3schools.com/mysql/trymysql.asp?filename=trysql_select_all ) <= recommended, albeit an older version\n",
        "- [MS SQL Server]( https://www.w3schools.com/sql/trysqlserver.asp?filename=trysql_select_all )\n",
        "\n"
      ]
    },
    {
      "cell_type": "markdown",
      "metadata": {
        "id": "Ecjrn2DHSLsX"
      },
      "source": [
        "Also, there are dialects of SQL between the various vendors.  For example, see [w3school's TOP](https://www.w3schools.com/sql/sql_top.asp) page."
      ]
    },
    {
      "cell_type": "markdown",
      "metadata": {
        "id": "BHeMyd_SN_mp"
      },
      "source": [
        "## SQL SELECT Syntax"
      ]
    },
    {
      "cell_type": "markdown",
      "metadata": {
        "id": "ZfUDtxufszBe"
      },
      "source": [
        "Sample Table\n",
        "\n",
        "\n",
        "---\n",
        "\n",
        "\n",
        "\n",
        "**people**  \n",
        "\n",
        "| id       | name           | age | city |\n",
        "| ------------- |-------------| -----|---|\n",
        "| 1     | Joe | 5| Durango|\n",
        "| 2      | Alice     | 55| Albuquerque |\n",
        "| 3 | Veronica     |   105| Albuquerque |\n",
        "|4| Matt | 43 | null |"
      ]
    },
    {
      "cell_type": "markdown",
      "metadata": {
        "id": "BlPAa4dEgVjf"
      },
      "source": [
        "We will use that Markdown table to create a table in SQLite3.  In order to do that, we need to install SQLite3."
      ]
    },
    {
      "cell_type": "code",
      "execution_count": null,
      "metadata": {
        "id": "65anBhbi11CF"
      },
      "outputs": [],
      "source": [
        "%%capture\n",
        "%%bash\n",
        "apt-get update\n",
        "apt-get install -y sqlite3\n"
      ]
    },
    {
      "cell_type": "code",
      "execution_count": null,
      "metadata": {
        "id": "dFxdXsKp2E2Y",
        "outputId": "73ce4ec1-f8ab-4b5d-b328-b0835546b5bd",
        "colab": {
          "base_uri": "https://localhost:8080/"
        }
      },
      "outputs": [
        {
          "output_type": "stream",
          "name": "stdout",
          "text": [
            "Usage: sqlite3 [OPTIONS] FILENAME [SQL]\n",
            "FILENAME is the name of an SQLite database. A new database is created\n",
            "if the file does not previously exist.\n",
            "OPTIONS include:\n",
            "   -A ARGS...           run \".archive ARGS\" and exit\n",
            "   -append              append the database to the end of the file\n",
            "   -ascii               set output mode to 'ascii'\n",
            "   -bail                stop after hitting an error\n",
            "   -batch               force batch I/O\n",
            "   -box                 set output mode to 'box'\n",
            "   -column              set output mode to 'column'\n",
            "   -cmd COMMAND         run \"COMMAND\" before reading stdin\n",
            "   -csv                 set output mode to 'csv'\n",
            "   -deserialize         open the database using sqlite3_deserialize()\n",
            "   -echo                print commands before execution\n",
            "   -init FILENAME       read/process named file\n",
            "   -[no]header          turn headers on or off\n",
            "   -help                show this message\n",
            "   -html                set output mode to HTML\n",
            "   -interactive         force interactive I/O\n",
            "   -json                set output mode to 'json'\n",
            "   -line                set output mode to 'line'\n",
            "   -list                set output mode to 'list'\n",
            "   -lookaside SIZE N    use N entries of SZ bytes for lookaside memory\n",
            "   -markdown            set output mode to 'markdown'\n",
            "   -maxsize N           maximum size for a --deserialize database\n",
            "   -memtrace            trace all memory allocations and deallocations\n",
            "   -mmap N              default mmap size set to N\n",
            "   -newline SEP         set output row separator. Default: '\\n'\n",
            "   -nofollow            refuse to open symbolic links to database files\n",
            "   -nonce STRING        set the safe-mode escape nonce\n",
            "   -nullvalue TEXT      set text string for NULL values. Default ''\n",
            "   -pagecache SIZE N    use N slots of SZ bytes each for page cache memory\n",
            "   -quote               set output mode to 'quote'\n",
            "   -readonly            open the database read-only\n",
            "   -safe                enable safe-mode\n",
            "   -separator SEP       set output column separator. Default: '|'\n",
            "   -stats               print memory stats before each finalize\n",
            "   -table               set output mode to 'table'\n",
            "   -tabs                set output mode to 'tabs'\n",
            "   -version             show SQLite version\n",
            "   -vfs NAME            use NAME as the default VFS\n",
            "   -zip                 open the file as a ZIP Archive\n",
            "3.37.2 2022-01-06 13:25:41 872ba256cbf61d9290b571c0e6d82a20c224ca3ad82971edc46b29818d5dalt1\n"
          ]
        }
      ],
      "source": [
        "!sqlite3 --help\n",
        "!sqlite3 --version"
      ]
    },
    {
      "cell_type": "markdown",
      "metadata": {
        "id": "YeULRgSughy1"
      },
      "source": [
        "And to get the data into SQLite, we will first need to go through a few data wrangling steps:\n",
        "1. save the Markdown table to a string\n",
        "1. convert the string to HTML\n",
        "1. convert the HTML to a DataFrame\n",
        "1. convert the DataFrame to a CSV file\n",
        "1. import the CSV file into SQLite3\n",
        "1. clean up the data in SQLite3, e.g. null values, data types\n",
        "\n",
        "\n"
      ]
    },
    {
      "cell_type": "code",
      "execution_count": null,
      "metadata": {
        "id": "6PAFInZXyjBO"
      },
      "outputs": [],
      "source": [
        "import pandas as pd\n",
        "import markdown\n",
        "import base64\n"
      ]
    },
    {
      "cell_type": "code",
      "execution_count": null,
      "metadata": {
        "id": "ek3ve7fyyekG"
      },
      "outputs": [],
      "source": [
        "# Assign Markdown string to a variable\n",
        "\n",
        "table_md = '''\n",
        "| id  | name     | age | city        |\n",
        "| --- | -------- | --- | ----------- |\n",
        "| 1   | Joe      |   5 | Durango     |\n",
        "| 2   | Alice    |  55 | Albuquerque |\n",
        "| 3   | Veronica | 105 | Albuquerque |\n",
        "| 4   | Matt     |  43 | null        |\n",
        "'''\n",
        "table_md\n"
      ]
    },
    {
      "cell_type": "code",
      "source": [
        "%%markdown. #renders with (%%) as a magic command to turn into a TABLE\n",
        "| id  | name     | age | city        |\n",
        "| --- | -------- | --- | ----------- |\n",
        "| 1   | Joe      |   5 | Durango     |\n",
        "| 2   | Alice    |  55 | Albuquerque |\n",
        "| 3   | Veronica | 105 | Albuquerque |\n",
        "| 4   | Matt     |  43 | null        |\n"
      ],
      "metadata": {
        "id": "I-t_BkP4Z83q"
      },
      "execution_count": null,
      "outputs": []
    },
    {
      "cell_type": "code",
      "source": [
        "from IPython.display import display, Markdown\n",
        "display(Markdown(table_md))\n"
      ],
      "metadata": {
        "id": "i9GWwxUnG0iJ"
      },
      "execution_count": null,
      "outputs": []
    },
    {
      "cell_type": "code",
      "execution_count": null,
      "metadata": {
        "id": "_r15hb-qyyYd"
      },
      "outputs": [],
      "source": [
        "# Convert Markdown to HTML to a DataFrame\n",
        "table_html=markdown.markdown(table_md, extensions=['markdown.extensions.tables'])\n",
        "html = table_html.replace(\"\\n\",'')\n",
        "html"
      ]
    },
    {
      "cell_type": "code",
      "source": [
        "%%HTML\n",
        "<table><thead><tr><th>id</th><th>name</th><th>age</th><th>city</th></tr></thead><tbody><tr><td>1</td><td>Joe</td><td>5</td><td>Durango</td></tr><tr><td>2</td><td>Alice</td><td>55</td><td>Albuquerque</td></tr><tr><td>3</td><td>Veronica</td><td>105</td><td>Albuquerque</td></tr><tr><td>4</td><td>Matt</td><td>43</td><td>null</td></tr></tbody></table>\n"
      ],
      "metadata": {
        "id": "0aZvCtj7a8Kx"
      },
      "execution_count": null,
      "outputs": []
    },
    {
      "cell_type": "code",
      "source": [
        "from IPython.display import display, HTML\n",
        "display(HTML(html))\n"
      ],
      "metadata": {
        "id": "riQQRWRnGX0f"
      },
      "execution_count": null,
      "outputs": []
    },
    {
      "cell_type": "code",
      "source": [
        "people_df = pd.read_html(table_html)[0]\n",
        "people_df\n"
      ],
      "metadata": {
        "id": "DU0-6JwZjVwW"
      },
      "execution_count": null,
      "outputs": []
    },
    {
      "cell_type": "code",
      "execution_count": null,
      "metadata": {
        "id": "7hydZdSL1RlC"
      },
      "outputs": [],
      "source": [
        "# Save DataFrame as CSV\n",
        "!rm -f people.*\n",
        "people_df.to_csv('people.csv', index=False)\n",
        "!ls -l people.*\n",
        "!cat -n people.csv\n"
      ]
    },
    {
      "cell_type": "code",
      "execution_count": null,
      "metadata": {
        "id": "UsP4NwjL2liH"
      },
      "outputs": [],
      "source": [
        "# Import CSV into SQLite3\n",
        "%%script sqlite3 --column --header people.sql3\n",
        ".mode csv\n",
        ".import people.csv people\n"
      ]
    },
    {
      "cell_type": "code",
      "execution_count": null,
      "metadata": {
        "id": "HmL5SEDmBQBr"
      },
      "outputs": [],
      "source": [
        "# Verify files exist\n",
        "!ls -la people*\n"
      ]
    },
    {
      "cell_type": "code",
      "execution_count": null,
      "metadata": {
        "id": "i-shVE5pSevB"
      },
      "outputs": [],
      "source": [
        "# Look at the schema\n",
        "%%script sqlite3 --column --header people.sql3\n",
        ".schema\n"
      ]
    },
    {
      "cell_type": "code",
      "execution_count": null,
      "metadata": {
        "id": "SbynoaJ_HYRR"
      },
      "outputs": [],
      "source": [
        "# Clean up Nulls\n",
        "%%script sqlite3 --column --header people.sql3\n",
        "UPDATE people SET city = NULL WHERE city = '';\n"
      ]
    },
    {
      "cell_type": "code",
      "execution_count": null,
      "metadata": {
        "id": "yFv1fPsJHmsf"
      },
      "outputs": [],
      "source": [
        "# Verify the data\n",
        "\n",
        "# in sql13 a file is the database -> database(table) -> table has (columns,rows)\n",
        "%%script sqlite3 --column --header people.sql3\n",
        "select * from people ;\n",
        "select * from people where city is null ;\n"
      ]
    },
    {
      "cell_type": "markdown",
      "metadata": {
        "id": "-7emm04kPMC8"
      },
      "source": [
        "## Query Foundations"
      ]
    },
    {
      "cell_type": "markdown",
      "metadata": {
        "id": "01khedsYrYUO"
      },
      "source": [
        "**Query all rows and columns**\n",
        "\n",
        "`SELECT columns FROM table`\n",
        "\n",
        "`SELECT * FROM table`\n",
        "\n",
        "*Note: as a general rule, it is better to explicitly name your columns to ensure consistent results. Naming specific columns is also better for large datasets.*\n",
        "\n",
        "**Query specific columns**  \n",
        "`SELECT name, age FROM people`\n",
        "\n",
        "**Query based on condition**  \n",
        "`SELECT name FROM people WHERE id > 1`\n",
        "\n"
      ]
    },
    {
      "cell_type": "code",
      "source": [
        "people_df"
      ],
      "metadata": {
        "id": "-dZXOb_ccUmy"
      },
      "execution_count": null,
      "outputs": []
    },
    {
      "cell_type": "code",
      "execution_count": null,
      "metadata": {
        "id": "abhmRixY22Zh"
      },
      "outputs": [],
      "source": [
        "%%script sqlite3 --column --header people.sql3\n",
        "-- print(people_df)\n",
        "SELECT * FROM people\n",
        ";\n"
      ]
    },
    {
      "cell_type": "code",
      "execution_count": null,
      "metadata": {
        "id": "QjxjEEte3zgA"
      },
      "outputs": [],
      "source": [
        "%%script sqlite3 --column --header people.sql3\n",
        "-- print(people_df[[\"name\",\"age\"]])\n",
        "SELECT name, age FROM people\n",
        ";\n"
      ]
    },
    {
      "cell_type": "code",
      "execution_count": null,
      "metadata": {
        "id": "4vOUlDZw4AUD"
      },
      "outputs": [],
      "source": [
        "%%script sqlite3 --column --header people.sql3\n",
        "-- filter = (people_df[\"age\"] > 40)\n",
        "-- print(people_df[ filter ][[\"name\"]])\n",
        "SELECT name FROM people WHERE age+0 > 40  #'age+0' is to coerce age as int for sql13\n",
        ";\n"
      ]
    },
    {
      "cell_type": "markdown",
      "metadata": {
        "id": "VzzEdhUsd1zZ"
      },
      "source": [
        "### Your Turn\n",
        "1. Select the `CustomerName` and `City` columns from `Customers`.\n",
        "2. Select the `CustomerName` for people live in Sweden.\n",
        "3. Select the entire row for people who live in London."
      ]
    },
    {
      "cell_type": "code",
      "execution_count": null,
      "metadata": {
        "id": "l6rZbxcw5m4F"
      },
      "outputs": [],
      "source": [
        "# Solution 1\n",
        "SELECT CustomerName, City FROM Customers;"
      ]
    },
    {
      "cell_type": "code",
      "execution_count": null,
      "metadata": {
        "id": "4eyJO7zQ5mo8"
      },
      "outputs": [],
      "source": [
        "# Solution 2\n",
        "SELECT CustomerName\n",
        "FROM Customers\n",
        "WHERE Country = 'Sweden';"
      ]
    },
    {
      "cell_type": "code",
      "execution_count": null,
      "metadata": {
        "id": "ccuhPP6p5mT4"
      },
      "outputs": [],
      "source": [
        "# Solution 3\n",
        "SELECT *\n",
        "FROM Customers\n",
        "WHERE City = 'London'"
      ]
    },
    {
      "cell_type": "code",
      "execution_count": null,
      "metadata": {
        "id": "p7hE_G1HXKxP"
      },
      "outputs": [],
      "source": [
        "# Answer\n",
        "SHOW = []\n",
        "answer_b64 = b'''IyBBbnN3ZXIKIyAtLXF1ZXJ5IDEKIyBTRUxFQ1QgQ3VzdG\n",
        "                9tZXJOYW1lLCBDaXR5CiMgRlJPTSBDdXN0b21lcnM7Cgoj\n",
        "                IC0tcXVlcnkgMgojIFNFTEVDVCBDdXN0b21lck5hbWUKIy\n",
        "                BGUk9NIEN1c3RvbWVycwojIFdIRVJFIENvdW50cnkgPSAi\n",
        "                U3dlZGVuIgoKIyAtLXF1ZXJ5IDMKIyBTRUxFQ1QgKgojIE\n",
        "                ZST00gQ3VzdG9tZXJzCiMgV0hFUkUgQ2l0eSA9ICdMb25k\n",
        "                b24nCg=='''\n",
        "if SHOW: print(base64.b64decode(answer_b64).decode('ascii'))\n"
      ]
    },
    {
      "cell_type": "markdown",
      "metadata": {
        "id": "hP5ghVzfg_fi"
      },
      "source": [
        "## And, Or, In"
      ]
    },
    {
      "cell_type": "markdown",
      "metadata": {
        "id": "m_ggur8Xd3MA"
      },
      "source": [
        "\n",
        "**AND - Combine Conditions**  \n",
        "`SELECT name FROM people WHERE id > 1 AND age > 50`\n",
        "\n",
        "\n",
        "**OR**  \n",
        "`SELECT name FROM people WHERE name = 'Joe' OR name = 'Alice'`\n",
        "\n",
        "**IN**  Require something to be in a list of values  \n",
        "`SELECT name FROM people WHERE name IN ('Joe', 'Alice')`\n",
        "\n",
        "**Combining AND with OR - BEWARE!! - Remember your parentheses!**\n",
        "\n",
        "`SELECT name FROM people WHERE (id > 1 AND age > 50) AND (name = 'Joe' OR name = 'Alice')`\n",
        "\n"
      ]
    },
    {
      "cell_type": "code",
      "execution_count": null,
      "metadata": {
        "id": "86e-9WNQ4LmD"
      },
      "outputs": [],
      "source": [
        "%%script sqlite3 --column --header people.sql3\n",
        "-- people_df[[\"name\"]][ ( people_df[ \"id\" ] > 1 ) & ( people_df[\"age\"] > 50)]\n",
        "\n",
        "SELECT name\n",
        "FROM people\n",
        "WHERE id+0 > 1 AND age+0 > 50\n",
        ";\n"
      ]
    },
    {
      "cell_type": "code",
      "execution_count": null,
      "metadata": {
        "id": "hx5zOFSM4sP8"
      },
      "outputs": [],
      "source": [
        "%%script sqlite3 --column --header people.sql3\n",
        "-- people_df[[\"name\"]][ ( people_df[ \"name\" ]  == \"Joe\" ) | ( people_df[\"name\"] == \"Alice\" )]\n",
        "\n",
        "SELECT name\n",
        "FROM people\n",
        "WHERE name = 'Joe' OR name = 'Alice'\n",
        ";\n"
      ]
    },
    {
      "cell_type": "code",
      "execution_count": null,
      "metadata": {
        "id": "mgpWO6Uw416A"
      },
      "outputs": [],
      "source": [
        "%%script sqlite3 --column --header people.sql3\n",
        "-- people_df[[\"name\"]][ ( people_df[ \"name\" ] in ( \"Joe\", \"Alice\" ) ) ]\n",
        "\n",
        "SELECT name\n",
        "FROM people\n",
        "WHERE name IN ('Joe', 'Alice')\n",
        ";\n"
      ]
    },
    {
      "cell_type": "code",
      "execution_count": null,
      "metadata": {
        "id": "8AyDsfLf43JY"
      },
      "outputs": [],
      "source": [
        "%%script sqlite3 --column --header people.sql3\n",
        "\n",
        "SELECT\n",
        "  name\n",
        "FROM\n",
        "  people\n",
        "WHERE\n",
        "    (id+0 > 1 AND age+0 > 50)\n",
        "  AND\n",
        "    (name = 'Joe' OR name = 'Alice')\n",
        ";\n"
      ]
    },
    {
      "cell_type": "markdown",
      "metadata": {
        "id": "M_9XP8kOhGZx"
      },
      "source": [
        "### Your Turn\n",
        "From the `Customers` table ...\n",
        "1. Select the entire row for people who live in Spain and have a `CustomerID` less than 20.\n",
        "2. Select the entire row for people who live in either France or Germany."
      ]
    },
    {
      "cell_type": "code",
      "source": [
        "# Solution 1\n",
        "SELECT *\n",
        "FROM Customers\n",
        "WHERE\n",
        "    (CustomerID+0 < 20 and Country = 'Spain')"
      ],
      "metadata": {
        "id": "P4-S1vxWd-Ym"
      },
      "execution_count": null,
      "outputs": []
    },
    {
      "cell_type": "code",
      "source": [
        "# Solution 2\n",
        "SELECT *\n",
        "FROM Customers\n",
        "WHERE\n",
        "    (Country = 'France' or Country = 'Germany')"
      ],
      "metadata": {
        "id": "rYeQ_otEeBVn"
      },
      "execution_count": null,
      "outputs": []
    },
    {
      "cell_type": "code",
      "execution_count": null,
      "metadata": {
        "id": "hRHe6_M8MFOG"
      },
      "outputs": [],
      "source": [
        "# Answer\n",
        "SHOW = 0\n",
        "answer_b64 = b'''Ci0tIHF1ZXJ5IDEKU0VMRUNUICoKRlJPTSBDdXN0b21lcnMgCl\n",
        "                dIRVJFIENvdW50cnkgPSAiU3BhaW4iIGFuZCBDdXN0b21lcklE\n",
        "                IDwgMjAKOwoKLS0gcXVlcnkgMgpTRUxFQ1QgKgpGUk9NIEN1c3\n",
        "                RvbWVycwpXSEVSRSBDb3VudHJ5IGluICgiRnJhbmNlIiwiR2Vy\n",
        "                bWFueSIpCjs=\n",
        "'''\n",
        "if SHOW: print(base64.b64decode(answer_b64).decode('ascii'))\n"
      ]
    },
    {
      "cell_type": "markdown",
      "metadata": {
        "id": "cJbGb4KyhnD_"
      },
      "source": [
        "## Aliases and Wildcards"
      ]
    },
    {
      "cell_type": "markdown",
      "metadata": {
        "id": "0PreyjOghFVM"
      },
      "source": [
        "**AS - Alias a column**  \n",
        "`SELECT name AS 'first_name' FROM people`\n",
        "\n",
        "**% Wildcard - LIKE**  Get all names that start with A  \n",
        "`SELECT * FROM people WHERE name LIKE  'A%'`\n",
        "\n",
        "**_ Wildcard - LIKE**  Match any single character   \n",
        "`SELECT * FROM people WHERE name LIKE  '_oe'`\n",
        "\n",
        "[SQL Reference for LIKE Statement](https://www.w3schools.com/sql/sql_like.asp)\n",
        "\n"
      ]
    },
    {
      "cell_type": "code",
      "execution_count": null,
      "metadata": {
        "id": "BhRT-3uL5cnN"
      },
      "outputs": [],
      "source": [
        "%%script sqlite3 --column --header people.sql3\n",
        "SELECT name AS 'first_name'\n",
        "FROM people\n",
        ";\n"
      ]
    },
    {
      "cell_type": "code",
      "execution_count": null,
      "metadata": {
        "id": "NOtQA-IP5cXJ"
      },
      "outputs": [],
      "source": [
        "%%script sqlite3 --column --header people.sql3\n",
        "SELECT *\n",
        "FROM people\n",
        "WHERE name LIKE 'A%'\n",
        ";\n"
      ]
    },
    {
      "cell_type": "code",
      "execution_count": null,
      "metadata": {
        "id": "5HOfndLF5b_9"
      },
      "outputs": [],
      "source": [
        "%%script sqlite3 --column --header people.sql3\n",
        "SELECT *\n",
        "FROM people\n",
        "WHERE name LIKE '_oe'\n",
        ";\n"
      ]
    },
    {
      "cell_type": "markdown",
      "metadata": {
        "id": "mff60TOfhtbE"
      },
      "source": [
        "### Your Turn\n",
        "From the `Customers` table ...\n",
        "\n",
        "1. Select the entire row for people whose `CustomerName` start with \"W'\n",
        "2. Select the entire row for people whose `PostalCode` ends in a 4"
      ]
    },
    {
      "cell_type": "code",
      "source": [
        "# Solution 1 (5 results)\n",
        "SELECT *\n",
        "FROM Customers\n",
        "WHERE CustomerName LIKE 'W%'"
      ],
      "metadata": {
        "id": "Kgs4CT-KeQ8z"
      },
      "execution_count": null,
      "outputs": []
    },
    {
      "cell_type": "code",
      "source": [
        "# Solution 2 (5 results)\n",
        "SELECT *\n",
        "FROM Customers\n",
        "WHERE PostalCode LIKE '%4'"
      ],
      "metadata": {
        "id": "7XV4Xxu3eSpr"
      },
      "execution_count": null,
      "outputs": []
    },
    {
      "cell_type": "code",
      "execution_count": null,
      "metadata": {
        "id": "c7LUZDpMPL4Z"
      },
      "outputs": [],
      "source": [
        "# Answer\n",
        "SHOW = \"\"\n",
        "answer_b64 = b'''Ci0tIHF1ZXJ5IDEKU0VMRUNUICoKRlJPTSBDdXN0b21lcnMKV0\n",
        "                hFUkUgQ3VzdG9tZXJOYW1lIExJS0UgJ1clJwo7CgotLSBxdWVy\n",
        "                eSAyClNFTEVDVCAqCkZST00gQ3VzdG9tZXJzCldIRVJFIFBvc3\n",
        "                RhbENvZGUgTElLRSAnJTQnCjsK\n",
        "'''\n",
        "if SHOW: print(base64.b64decode(answer_b64).decode('ascii'))\n"
      ]
    },
    {
      "cell_type": "markdown",
      "metadata": {
        "id": "rEGF5cSsi3BH"
      },
      "source": [
        "## Additional Queries"
      ]
    },
    {
      "cell_type": "markdown",
      "metadata": {
        "id": "KHO7yWdPhsTH"
      },
      "source": [
        "\n",
        "**BETWEEN** Includes both the lower and upper range of the BETWEEN statement.\n",
        "\n",
        "`SELECT name, age FROM people WHERE age BETWEEN 18 AND 70`\n",
        "\n",
        "**LIMIT rows returned**  \n",
        "`SELECT name FROM people LIMIT 5`\n",
        "\n",
        "**OFFSET**  skips entries (i.e. page 2 of search results skips first 5 on page 1)  \n",
        "`SELECT name FROM PEOPLE LIMIT 5 OFFSET 2`\n",
        "\n",
        "**NULL** Do not use != or <> or = for NULL\n",
        "\n",
        "--Get all records where city has some data.\n",
        "\n",
        "`SELECT * FROM people WHERE city IS NOT NULL`\n",
        "\n",
        "\n",
        "--Get all records where city has no data - not the same as \"blank\"\n",
        "\n",
        "`SELECT * FROM people WHERE city IS NULL`\n",
        "\n",
        "**ROUND**  - Rounds average age to 2 decimals  \n",
        "`SELECT ROUND(AVG(age), 2) FROM people`"
      ]
    },
    {
      "cell_type": "markdown",
      "metadata": {
        "id": "LFaQ22LxEceH"
      },
      "source": [
        "**NULL vs blank**\n",
        "\n",
        "- NULL is the absence of data meaning data was never collected or provided for that data element. For example, a value may have been left off a survey. You will also get nulls when joining data if the data only exists in one table but not another.\n",
        "\n",
        "- blank is empty data meaning data was collected but did not exist for that data element. For example, an address may not have an apartment number so that could be blank.\n",
        "\n",
        "- Each serves a different purpose. A database administrator will decide which is appropriate for their application."
      ]
    },
    {
      "cell_type": "code",
      "source": [
        "filter = (people_df[\"age\"].between(18, 70))\n",
        "people_df[ filter ][[\"name\",\"age\"]]\n"
      ],
      "metadata": {
        "id": "RHPAgVYW2jF6"
      },
      "execution_count": null,
      "outputs": []
    },
    {
      "cell_type": "code",
      "execution_count": null,
      "metadata": {
        "id": "pBkTmzpK8xBc"
      },
      "outputs": [],
      "source": [
        "%%script sqlite3 --column --header people.sql3\n",
        "-- filter = (people_df[\"age\"].between(18, 70))\n",
        "-- people_df[ filter ][[\"name\",\"age\"]]\n",
        "SELECT name, age\n",
        "FROM people\n",
        "WHERE age+0 BETWEEN 18 AND 70\n",
        ";\n"
      ]
    },
    {
      "cell_type": "code",
      "execution_count": null,
      "metadata": {
        "id": "bPdkDDWn8w4g"
      },
      "outputs": [],
      "source": [
        "%%script sqlite3 --column --header people.sql3\n",
        "SELECT name\n",
        "FROM people\n",
        "LIMIT 2\n",
        ";\n"
      ]
    },
    {
      "cell_type": "code",
      "execution_count": null,
      "metadata": {
        "id": "Z7_hCa208wuX"
      },
      "outputs": [],
      "source": [
        "%%script sqlite3 --column --header people.sql3\n",
        "SELECT name\n",
        "FROM PEOPLE\n",
        "LIMIT 5 OFFSET 2\n",
        ";\n"
      ]
    },
    {
      "cell_type": "code",
      "source": [
        "%%script sqlite3 --column --header people.sql3\n",
        "SELECT *\n",
        "FROM PEOPLE\n",
        ";\n"
      ],
      "metadata": {
        "id": "1xQqSqWGz9vM"
      },
      "execution_count": null,
      "outputs": []
    },
    {
      "cell_type": "code",
      "execution_count": null,
      "metadata": {
        "id": "vyrFHW1e8wlR"
      },
      "outputs": [],
      "source": [
        "%%script sqlite3 --column --header people.sql3\n",
        "SELECT *\n",
        "FROM people\n",
        "WHERE city IS NOT NULL\n",
        ";\n"
      ]
    },
    {
      "cell_type": "code",
      "execution_count": null,
      "metadata": {
        "id": "-VlqE0g-8wYl"
      },
      "outputs": [],
      "source": [
        "%%script sqlite3 --column --header people.sql3\n",
        "SELECT *\n",
        "FROM people\n",
        "WHERE city IS NULL\n",
        ";\n"
      ]
    },
    {
      "cell_type": "code",
      "execution_count": null,
      "metadata": {
        "id": "L2QgBsR78vxr"
      },
      "outputs": [],
      "source": [
        "%%script sqlite3 --column --header people.sql3\n",
        "--\n",
        "SELECT AVG(age+0)/1000 as \"mean_age\"\n",
        "FROM people\n",
        ";\n",
        "\n",
        "SELECT Round(AVG(age+0)/1000,2) \"milli_mean_age\"\n",
        "FROM people\n",
        ";\n"
      ]
    },
    {
      "cell_type": "markdown",
      "metadata": {
        "id": "jtbpIzdUi6_m"
      },
      "source": [
        "### Your Turn\n",
        "From the `Customers` table ...\n",
        "\n",
        "1. Select the first 6 rows of people who have CustomerIDs between 20 and 35."
      ]
    },
    {
      "cell_type": "code",
      "source": [
        "# Solution\n",
        "SELECT *\n",
        "FROM Customers\n",
        "WHERE CustomerID+0 BETWEEN 20 and 35\n",
        ";"
      ],
      "metadata": {
        "id": "pv-i73PRmJ4U"
      },
      "execution_count": null,
      "outputs": []
    },
    {
      "cell_type": "code",
      "execution_count": null,
      "metadata": {
        "id": "agFftf2HQbbX"
      },
      "outputs": [],
      "source": [
        "# Answer\n",
        "SHOW = []\n",
        "answer_b64 = b'''ClNFTEVDVCAqCkZST00gQ3VzdG9tZXJzCldIRVJFIEN1c3RvbW\n",
        "                VySUQgQkVUV0VFTiAyMCBhbmQgMzUKTElNSVQgNgo7Cg==\n",
        "'''\n",
        "if SHOW: print(base64.b64decode(answer_b64).decode('ascii'))\n"
      ]
    },
    {
      "cell_type": "markdown",
      "metadata": {
        "id": "e5Q5GhWaL925"
      },
      "source": [
        "## Sorting & Grouping"
      ]
    },
    {
      "cell_type": "markdown",
      "metadata": {
        "id": "pJHOFA8KL9N-"
      },
      "source": [
        "**ORDER BY**  ASC (default) or DESC  \n",
        "`SELECT * FROM people ORDER BY name DESC`\n",
        "\n",
        "`SELECT * FROM people ORDER BY city, name DESC`\n",
        "\n",
        "\n",
        "**DISTINCT**  Returns unique values of a column  \n",
        "`SELECT DISTINCT city FROM people`\n",
        "\n",
        "`SELECT DISTINCT city, name FROM people`\n",
        "\n",
        "\n",
        "**GROUP BY**  (Can come after FROM or WHERE but must come before ORDER BY or LIMIT)  -- Total the number of people in each city\n",
        "\n",
        "`SELECT city, COUNT(1) FROM people GROUP BY city`\n",
        "\n",
        "**HAVING** Further filters groups-- only pull cities with more than 1 people in them  \n",
        "`SELECT city, COUNT(1) FROM people GROUP BY city HAVING COUNT(1) > 1`"
      ]
    },
    {
      "cell_type": "code",
      "execution_count": null,
      "metadata": {
        "id": "3Fvr7d5q9RvT"
      },
      "outputs": [],
      "source": [
        "%%script sqlite3 --column --header people.sql3\n",
        "SELECT *\n",
        "FROM people\n",
        "ORDER BY name DESC\n",
        ";\n"
      ]
    },
    {
      "cell_type": "code",
      "source": [
        "%%script sqlite3 --column --header people.sql3\n",
        "SELECT *\n",
        "FROM people\n",
        "ORDER BY city, name DESC\n",
        ";\n"
      ],
      "metadata": {
        "id": "zpB5ytIobEgT"
      },
      "execution_count": null,
      "outputs": []
    },
    {
      "cell_type": "code",
      "execution_count": null,
      "metadata": {
        "id": "0xBhn75y9Rdr"
      },
      "outputs": [],
      "source": [
        "%%script sqlite3 --column --header people.sql3\n",
        "SELECT DISTINCT city\n",
        "FROM people\n",
        ";\n"
      ]
    },
    {
      "cell_type": "code",
      "source": [
        "%%script sqlite3 --column --header people.sql3\n",
        "SELECT COUNT(1) as count\n",
        "FROM people\n",
        ";\n"
      ],
      "metadata": {
        "id": "Aixi5RLNc0Fv"
      },
      "execution_count": null,
      "outputs": []
    },
    {
      "cell_type": "code",
      "source": [
        "%%script sqlite3 --column --header people.sql3\n",
        "SELECT 1, city, COUNT(1) as count_city, count(1)\n",
        "FROM people\n",
        "GROUP BY city\n",
        ";\n"
      ],
      "metadata": {
        "id": "VbHYCv7NZ0Ic"
      },
      "execution_count": null,
      "outputs": []
    },
    {
      "cell_type": "code",
      "execution_count": null,
      "metadata": {
        "id": "NajbsjHj9RMm"
      },
      "outputs": [],
      "source": [
        "%%script sqlite3 --column --header people.sql3\n",
        "SELECT city, COUNT(1) as count_city\n",
        "FROM people\n",
        "GROUP BY city\n",
        ";\n"
      ]
    },
    {
      "cell_type": "code",
      "execution_count": null,
      "metadata": {
        "id": "wVrP3iY49Q1o"
      },
      "outputs": [],
      "source": [
        "%%script sqlite3 --column --header people.sql3\n",
        "SELECT city, COUNT(1) as count_city\n",
        "FROM people\n",
        "GROUP BY city\n",
        "HAVING count_city > 1\n",
        ";\n"
      ]
    },
    {
      "cell_type": "code",
      "source": [
        "%%script sqlite3 --column --header people.sql3\n",
        "SELECT city, COUNT(city) as count_city\n",
        "FROM people\n",
        "GROUP BY city\n",
        ";\n"
      ],
      "metadata": {
        "id": "aXwBFAuvWYsM"
      },
      "execution_count": null,
      "outputs": []
    },
    {
      "cell_type": "code",
      "source": [
        "%%script sqlite3 --column --header people.sql3\n",
        "SELECT COUNT(*)\n",
        "FROM people\n",
        ";\n"
      ],
      "metadata": {
        "id": "c8c19d_RWnW4"
      },
      "execution_count": null,
      "outputs": []
    },
    {
      "cell_type": "code",
      "source": [
        "%%script sqlite3 --column --header people.sql3\n",
        "SELECT *\n",
        "FROM people\n",
        ";\n"
      ],
      "metadata": {
        "id": "DnNdHxgjXgPx"
      },
      "execution_count": null,
      "outputs": []
    },
    {
      "cell_type": "markdown",
      "metadata": {
        "id": "ZzoHc3XhjVpe"
      },
      "source": [
        "### Your Turn\n",
        "1. Sort the `Customers` table by `City` in alphabetical order.\n",
        "2. Find the distinct countries.\n",
        "3. Count the number of people in each country."
      ]
    },
    {
      "cell_type": "code",
      "source": [
        "# Solution\n",
        "SELECT *\n",
        "FROM Customers\n",
        "ORDER BY City ASC\n",
        ";"
      ],
      "metadata": {
        "id": "_sy14HaxnFx0"
      },
      "execution_count": null,
      "outputs": []
    },
    {
      "cell_type": "code",
      "source": [
        "# Solution\n",
        "SELECT DISTINCT Country\n",
        "FROM Customers\n",
        ";"
      ],
      "metadata": {
        "id": "T9d_XCn6eFIZ"
      },
      "execution_count": null,
      "outputs": []
    },
    {
      "cell_type": "code",
      "source": [
        "# Solution (21 records)\n",
        "-- Count the number of people in each country.\n",
        "\n",
        "SELECT Country, COUNT(1) as count_country\n",
        "FROM Customers\n",
        "GROUP BY Country\n",
        ";"
      ],
      "metadata": {
        "id": "IUAe8UUseFFh"
      },
      "execution_count": null,
      "outputs": []
    },
    {
      "cell_type": "code",
      "execution_count": null,
      "metadata": {
        "id": "h1OPzr0yQeRw"
      },
      "outputs": [],
      "source": [
        "# Answer\n",
        "SHOW = {}\n",
        "answer_b64 = b'''Ci0tIHF1ZXJ5IDEKU0VMRUNUICoKRlJPTSBDdXN0b21lcnMKT1\n",
        "                JERVIgQlkgQ2l0eQo7CgotLSBxdWVyeSAyClNFTEVDVCBESVNU\n",
        "                SU5DVCBDb3VudHJ5CkZST00gQ3VzdG9tZXJzCjsKCi0tIHF1ZX\n",
        "                J5IDMKU0VMRUNUIENvdW50cnksIENPVU5UKDEpCkZST00gQ3Vz\n",
        "                dG9tZXJzCkdST1VQIEJZIENvdW50cnkKOwoK\n",
        "'''\n",
        "if SHOW: print(base64.b64decode(answer_b64).decode('ascii'))\n"
      ]
    },
    {
      "cell_type": "markdown",
      "metadata": {
        "id": "wXwDd7cCKmWS"
      },
      "source": [
        "## Aggregates"
      ]
    },
    {
      "cell_type": "markdown",
      "metadata": {
        "id": "P62IrCbMKgE1"
      },
      "source": [
        "**COUNT(*) or COUNT(1)**  Get the number of rows *including* those with NULLs\n",
        "\n",
        "`SELECT COUNT(*) FROM people`\n",
        "\n",
        "**COUNT(columnName)**  Get the number of rows *excluding* those with NULLs for the specified column.\n",
        "\n",
        "`SELECT COUNT(name) FROM people`\n",
        "\n",
        "**MAX**  \n",
        "`SELECT MAX(age) FROM people`\n",
        "\n",
        "**MIN**  \n",
        "`SELECT MIN(age) FROM people`\n",
        "\n",
        "**SUM**  \n",
        "`SELECT SUM(age) FROM people`\n",
        "\n",
        "**AVG**  \n",
        "`SELECT AVG(age) FROM people`\n",
        "\n",
        "\n"
      ]
    },
    {
      "cell_type": "code",
      "execution_count": null,
      "metadata": {
        "id": "eKBpGX3y9o_L"
      },
      "outputs": [],
      "source": [
        "%%script sqlite3 --column --header people.sql3\n",
        "SELECT COUNT(1)\n",
        "FROM people\n",
        ";\n"
      ]
    },
    {
      "cell_type": "code",
      "source": [],
      "metadata": {
        "colab": {
          "base_uri": "https://localhost:8080/"
        },
        "id": "U4TAHchBdQxt",
        "outputId": "62705d1d-6345-493f-e686-c446fa420246"
      },
      "execution_count": 1,
      "outputs": [
        {
          "output_type": "execute_result",
          "data": {
            "text/plain": [
              "71.0"
            ]
          },
          "metadata": {},
          "execution_count": 1
        }
      ]
    },
    {
      "cell_type": "code",
      "execution_count": null,
      "metadata": {
        "id": "XLhCmYHW9o1-"
      },
      "outputs": [],
      "source": [
        "%%script sqlite3 --column --header people.sql3\n",
        "SELECT count(city)\n",
        "FROM people\n",
        ";\n"
      ]
    },
    {
      "cell_type": "code",
      "execution_count": null,
      "metadata": {
        "id": "xuMykcdd9oti"
      },
      "outputs": [],
      "source": [
        "%%script sqlite3 --column --header people.sql3\n",
        "SELECT MAX(age+0)\n",
        "FROM people\n",
        ";\n"
      ]
    },
    {
      "cell_type": "code",
      "execution_count": null,
      "metadata": {
        "id": "ViuPPjfR9ok7"
      },
      "outputs": [],
      "source": [
        "%%script sqlite3 --column --header people.sql3\n",
        "SELECT MIN(age+0)\n",
        "FROM people\n",
        ";\n"
      ]
    },
    {
      "cell_type": "code",
      "execution_count": null,
      "metadata": {
        "id": "pXeRhQmm9obO"
      },
      "outputs": [],
      "source": [
        "%%script sqlite3 --column --header people.sql3\n",
        "SELECT SUM(age+0)\n",
        "FROM people\n",
        ";\n"
      ]
    },
    {
      "cell_type": "code",
      "execution_count": null,
      "metadata": {
        "id": "mTUC1kfu9oR5"
      },
      "outputs": [],
      "source": [
        "%%script sqlite3 --column --header people.sql3\n",
        "SELECT AVG(age+0)\n",
        "FROM people\n",
        ";\n"
      ]
    },
    {
      "cell_type": "markdown",
      "metadata": {
        "id": "FNOTCbURj1Q_"
      },
      "source": [
        "### Your Turn\n",
        "1. Find the maximum postal code in `Customers`."
      ]
    },
    {
      "cell_type": "code",
      "source": [
        "# Solution\n",
        "SELECT MAX(PostalCode)\n",
        "FROM Customers\n",
        ";"
      ],
      "metadata": {
        "id": "wL8Ajxw-na9y"
      },
      "execution_count": null,
      "outputs": []
    },
    {
      "cell_type": "code",
      "execution_count": null,
      "metadata": {
        "id": "3csZ93RZQgdg"
      },
      "outputs": [],
      "source": [
        "# Answer\n",
        "SHOW = ()\n",
        "answer_b64 = b'U0VMRUNUIG1heChQb3N0YWxDb2RlKSBGUk9NIEN1c3RvbWVyczs='\n",
        "if SHOW: print(base64.b64decode(answer_b64).decode('ascii'))\n"
      ]
    },
    {
      "cell_type": "markdown",
      "metadata": {
        "id": "fxcIj5ojL_2j"
      },
      "source": [
        "## Aliases and CTEs\n",
        "\n",
        "An alias makes your query output easier to read. You use them to assign meaningful names to aggregated and derived columns.\n",
        "\n",
        "`SELECT MAX(age) AS max_age FROM people`"
      ]
    },
    {
      "cell_type": "code",
      "execution_count": null,
      "metadata": {
        "id": "3eRap0RO9xxo"
      },
      "outputs": [],
      "source": [
        "%%script sqlite3 --column --header people.sql3\n",
        "SELECT MAX(age+0) AS max_age\n",
        "FROM people\n",
        ";\n"
      ]
    },
    {
      "cell_type": "code",
      "execution_count": null,
      "metadata": {
        "id": "PBm-z_w8bfJk"
      },
      "outputs": [],
      "source": [
        "%%script sqlite3 --column --header people.sql3\n",
        "SELECT p.name as \"first_name\", age\n",
        "FROM people as \"p\"\n",
        "WHERE age+0 > 50\n",
        ";\n"
      ]
    },
    {
      "cell_type": "markdown",
      "source": [
        "Another type of alias is the Common Table Expression ( CTE ).  This is very similar to a context manager in Python.  A CTE allows us to create a name for a query and then use that name later in another query.\n",
        "\n",
        "You can create a subset of your data and assign it a temporary name using the `WITH` statement."
      ],
      "metadata": {
        "id": "Wt6o0oR6dw4T"
      }
    },
    {
      "cell_type": "code",
      "execution_count": null,
      "metadata": {
        "id": "QZrB-dd8TrZJ"
      },
      "outputs": [],
      "source": [
        "%%script sqlite3 --column --header people.sql3\n",
        "WITH\n",
        "  some_people as (\n",
        "    SELECT name as \"first_name\", age+0 as age, count(1) as count\n",
        "    FROM people\n",
        "    GROUP by first_name, age\n",
        ")\n",
        "\n",
        "SELECT *\n",
        "FROM some_people\n",
        "where age > 50\n",
        ";\n"
      ]
    },
    {
      "cell_type": "markdown",
      "metadata": {
        "id": "iE4LWa1JRFDw"
      },
      "source": [
        "### Your Turn\n",
        "From the `Customers` table ...\n",
        "\n",
        "1. Using a WITH statement, first select all `Customers` from Spain, then select all of those whose `CustomerID` is less than 20."
      ]
    },
    {
      "cell_type": "markdown",
      "source": [
        "**NOTE:** MySQL < 8.0 does not support CTEs.  SQL Server requires single quotes ( not double quotes ) for strings."
      ],
      "metadata": {
        "id": "mjJsC55MXJeu"
      }
    },
    {
      "cell_type": "code",
      "source": [
        "# Solution (Customer Name = 'Bólido Comidas preparadas')\n",
        "WITH\n",
        "  Spaniards as (\n",
        "    SELECT *\n",
        "    FROM Customers\n",
        "    WHERE Country = 'Spain'\n",
        ")\n",
        "\n",
        "SELECT *\n",
        "FROM Spaniards\n",
        "where CustomerID+0 < 20\n",
        ";"
      ],
      "metadata": {
        "id": "VNK-R1ePnhUG"
      },
      "execution_count": null,
      "outputs": []
    },
    {
      "cell_type": "code",
      "execution_count": null,
      "metadata": {
        "id": "AnAV9yjcRFDx"
      },
      "outputs": [],
      "source": [
        "# An answer\n",
        "SHOW = \"\"\n",
        "answer_b64 = b'''V0lUSAogIFNwYW5pYXJkcyBhcyAoCiAgICBTRUxFQ1QgK\n",
        "                 iBGUk9NIEN1c3RvbWVycyB3aGVyZSBDb3VudHJ5ID0gIl\n",
        "                 NwYWluIgopClNFTEVDVCAqIEZST00gU3BhbmlhcmRzIHd\n",
        "                 oZXJlIEN1c3RvbWVySUQgPCAyMAo7'''\n",
        "if SHOW: print(base64.b64decode(answer_b64).decode('ascii'))\n"
      ]
    },
    {
      "cell_type": "markdown",
      "source": [
        "## Encoding block"
      ],
      "metadata": {
        "id": "jRkrAN_-olJl"
      }
    },
    {
      "cell_type": "code",
      "source": [
        "def obscure(text):\n",
        "  answer = text.encode(\"utf-8\")\n",
        "  b64 = base64.b64encode(answer).decode(\"utf-8\")\n",
        "  n=50\n",
        "  print(\"\\n\".join([ b64[i:i+n] for i in range(0,len(b64),n) ]))\n",
        "\n",
        "obscure('''\n",
        "WITH\n",
        "  Spaniards as (\n",
        "    SELECT *\n",
        "    FROM Customers\n",
        "    WHERE Country = 'Spain'\n",
        "  ),\n",
        "  Madridians as (\n",
        "    SELECT *\n",
        "    FROM Spaniards\n",
        "    WHERE City = 'Madrid'\n",
        "  )\n",
        "SELECT *\n",
        "FROM Madridians\n",
        "''')\n",
        "\n"
      ],
      "metadata": {
        "id": "WpmDfWhLn04L"
      },
      "execution_count": null,
      "outputs": []
    },
    {
      "cell_type": "code",
      "source": [
        "# An answer\n",
        "def reveal(text, show=False):\n",
        "  if SHOW: show=SHOW\n",
        "  answer_b64 = text.encode(\"utf-8\")\n",
        "  if show: print(base64.b64decode(answer_b64).decode('ascii'))\n",
        "\n",
        "SHOW = False\n",
        "reveal('''CldJVEgKICBTcGFuaWFyZHMgYXMgKAogICAgU0VMRUNUICoKIC\n",
        "AgIEZST00gQ3VzdG9tZXJzCiAgICBXSEVSRSBDb3VudHJ5ID0g\n",
        "J1NwYWluJwogICksCiAgTWFkcmlkaWFucyBhcyAoCiAgICBTRU\n",
        "xFQ1QgKgogICAgRlJPTSBTcGFuaWFyZHMKICAgIFdIRVJFIENp\n",
        "dHkgPSAnTWFkcmlkJwogICkKU0VMRUNUICoKRlJPTSBNYWRyaW\n",
        "RpYW5zCg==\n",
        "''', True)\n",
        "\n"
      ],
      "metadata": {
        "id": "dtrmNQvJn3Jp"
      },
      "execution_count": null,
      "outputs": []
    },
    {
      "cell_type": "code",
      "source": [],
      "metadata": {
        "id": "d0jzD0sNAd-I"
      },
      "execution_count": null,
      "outputs": []
    }
  ],
  "metadata": {
    "colab": {
      "provenance": [],
      "toc_visible": true,
      "include_colab_link": true
    },
    "kernelspec": {
      "display_name": "Python 3",
      "name": "python3"
    }
  },
  "nbformat": 4,
  "nbformat_minor": 0
}