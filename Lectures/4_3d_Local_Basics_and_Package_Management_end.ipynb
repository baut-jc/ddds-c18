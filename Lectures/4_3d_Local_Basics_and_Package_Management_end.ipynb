{
  "nbformat": 4,
  "nbformat_minor": 0,
  "metadata": {
    "colab": {
      "provenance": [],
      "include_colab_link": true
    },
    "kernelspec": {
      "name": "python3",
      "display_name": "Python 3"
    }
  },
  "cells": [
    {
      "cell_type": "markdown",
      "metadata": {
        "id": "view-in-github",
        "colab_type": "text"
      },
      "source": [
        "<a href=\"https://colab.research.google.com/github/baut-jc/ddds-c18/blob/lectures/Lectures/4_3d_Local_Basics_and_Package_Management_end.ipynb\" target=\"_parent\"><img src=\"https://colab.research.google.com/assets/colab-badge.svg\" alt=\"Open In Colab\"/></a>"
      ]
    },
    {
      "cell_type": "markdown",
      "metadata": {
        "id": "2oYl5jhOKgSB"
      },
      "source": [
        "## Local vs. Cloud"
      ]
    },
    {
      "cell_type": "markdown",
      "metadata": {
        "id": "F2jQ2uzqKoPq"
      },
      "source": [
        "**Local**\n",
        "*   Control\n",
        "*   Customization\n",
        "*   Git - Version Control\n",
        "*   More files open\n",
        "*   Persistent storage - no weird workarounds with connecting Google Drive\n",
        "\n",
        "\n",
        "**Colab**\n",
        "*   Easy to get started on\n",
        "*   Preinstalled packages - could be good or bad\n",
        "*   Google Drive integration\n",
        "*   No installation needed\n",
        "*   Consistent no matter what your OS is\n",
        "*   Google's computing power\n",
        "\n",
        "\n",
        "**Other cloud options**\n",
        "* There are other options for running in the cloud\n",
        "* Alternatives similar to Colab\n",
        "* Configure your own cloud-computing environment\n",
        "* Docker containers\n",
        "\n"
      ]
    },
    {
      "cell_type": "markdown",
      "metadata": {
        "id": "atu1WtIppZBQ"
      },
      "source": [
        "## Local Python Package management"
      ]
    },
    {
      "cell_type": "markdown",
      "metadata": {
        "id": "HSAEdBFFpw4p"
      },
      "source": [
        "### General Ideas\n",
        "- Create environments to install Python packages\n",
        "  - Install only packages needed for a specific project\n",
        "  - Control versions of packages (may need different versions for different projects)\n",
        "  - Share project requirements with others\n",
        "\n",
        "- General process\n",
        "  - Setup:\n",
        "   - Create a new environment\n",
        "   - Activate the environment for your project\n",
        "   - Install packages\n",
        "\n",
        "  - Use\n",
        "    - Activate environment\n",
        "    - Code cool things\n",
        "    - Deactivate\n",
        "  \n",
        "  - Share\n",
        "    - Make a requirements file\n",
        "    - Make an environment from a requirements file\n",
        "    \n",
        "  **Python package management options**\n",
        "  - conda/Anaconda\n",
        "  - pip, venv, pipenv"
      ]
    },
    {
      "cell_type": "markdown",
      "metadata": {
        "id": "1do0mCVCvmPJ"
      },
      "source": [
        "[Conda vs. pip vs. virtualenv commands](https://docs.conda.io/projects/conda/en/latest/commands.html#conda-vs-pip-vs-virtualenv-commands)"
      ]
    },
    {
      "cell_type": "markdown",
      "metadata": {
        "id": "CJ1kfx76pct7"
      },
      "source": [
        "## Conda - Anaconda\n"
      ]
    },
    {
      "cell_type": "markdown",
      "metadata": {
        "id": "26ang4_GqltA"
      },
      "source": [
        "**conda** is a package manager  \n",
        "**Anaconda** is an installation that includes:   \n",
        "- conda\n",
        "- many other packages commonly used for Data Science\n",
        "- A GUI interface  "
      ]
    },
    {
      "cell_type": "markdown",
      "metadata": {
        "id": "Ff-rWKLisrIw"
      },
      "source": [
        "### Anaconda Navigator - GUI"
      ]
    },
    {
      "cell_type": "markdown",
      "metadata": {
        "id": "2cgVk13IsxyZ"
      },
      "source": [
        "- [Download and Install](https://docs.anaconda.com/anaconda/install/)  \n",
        "- Windows and Mac: launch Anaconda Navigator\n",
        "- Linux- from command line: `conda activate` then `anaconda-navigator`\n",
        "- Selecting 'Environments' from menu on left lets you create & manage environments\n",
        "- From 'Home' you can pick an environment and then launch Jupyter Lab, or another program.\n"
      ]
    },
    {
      "cell_type": "markdown",
      "metadata": {
        "id": "Ol7LmaUSuxd8"
      },
      "source": [
        "### Conda - command line\n",
        "\n"
      ]
    },
    {
      "cell_type": "markdown",
      "source": [
        "\n",
        "*  [Install](https://docs.conda.io/en/latest/miniconda.html)\n",
        "* [Documentation](https://docs.conda.io/en/latest/)\n",
        "\n"
      ],
      "metadata": {
        "id": "3UDA9CS4ytcO"
      }
    },
    {
      "cell_type": "markdown",
      "source": [
        "#### Create and setup new environment\n",
        "\n"
      ],
      "metadata": {
        "id": "g-Eo8Dd1y3W0"
      }
    },
    {
      "cell_type": "markdown",
      "source": [
        "\n",
        "`conda create --name $ENVIRONMENT_NAME python`  \n",
        "\n",
        "`conda activate $ENVIRONMENT_NAME`\n",
        "\n",
        "`conda install $PACKAGE_NAME`\n",
        "\n",
        "`conda deactivate`\n",
        "\n"
      ],
      "metadata": {
        "id": "2Vifh0Aey2lW"
      }
    },
    {
      "cell_type": "markdown",
      "source": [
        "#### Use a Conda environment\n",
        "\n"
      ],
      "metadata": {
        "id": "TjlmzxP0y6pm"
      }
    },
    {
      "cell_type": "markdown",
      "source": [
        "`conda activate $ENVIRONMENT_NAME`\n",
        "\n",
        "Do your work (for example run jupyter lab and work on a notebook)\n",
        "\n",
        "`jupyter lab`\n",
        "\n",
        "`conda deactivate`\n",
        "\n"
      ],
      "metadata": {
        "id": "7dQfTFGRy7Th"
      }
    },
    {
      "cell_type": "markdown",
      "source": [
        "#### Export/Reuse environment\n",
        "\n"
      ],
      "metadata": {
        "id": "6Q_odhTVy-xR"
      }
    },
    {
      "cell_type": "markdown",
      "source": [
        "[Sharing a Conda Environment Documentation](https://conda.io/projects/conda/en/latest/user-guide/tasks/manage-environments.html#sharing-an-environment)\n",
        "\n",
        "\n",
        "Activate environment\n",
        "\n",
        "`conda activate $ENVIRONMENT_NAME`\n",
        "\n",
        "Export requirements:\n",
        "\n",
        "`conda env export > environment.yml`\n",
        "\n",
        "Create new environment using requirements\n",
        "\n",
        "`conda create --name $NEW_ENVIRONMENT_NAME --file environment.yml`\n"
      ],
      "metadata": {
        "id": "PBJXiYjUy_cp"
      }
    },
    {
      "cell_type": "markdown",
      "source": [
        "## Python venv\n"
      ],
      "metadata": {
        "id": "IYntElxVj3cc"
      }
    },
    {
      "cell_type": "markdown",
      "source": [
        "### Initial setup"
      ],
      "metadata": {
        "id": "-3O3m_WHj6VE"
      }
    },
    {
      "cell_type": "markdown",
      "source": [
        "If using Debian or Debian derivative ...\n",
        "\n",
        "```bash\n",
        "export DEBIAN_FRONTEND=noninteractive\n",
        "sudo apt-get update\n",
        "sudo apt-get install -y python3-pip python3-venv tree\n",
        "```\n"
      ],
      "metadata": {
        "id": "BSE5wXWYwN3k"
      }
    },
    {
      "cell_type": "markdown",
      "source": [
        "```bash\n",
        "cd path/to/your/projects\n",
        "\n",
        "python3 -m venv project_name\n",
        "```"
      ],
      "metadata": {
        "id": "5meJnEzBj6SV"
      }
    },
    {
      "cell_type": "markdown",
      "source": [
        "```bash\n",
        "tree -L 2 project_name/\n",
        "```\n"
      ],
      "metadata": {
        "id": "0UpzjMmmwvGj"
      }
    },
    {
      "cell_type": "markdown",
      "source": [
        "### Activate venv\n"
      ],
      "metadata": {
        "id": "ZE78kB-mkPfU"
      }
    },
    {
      "cell_type": "markdown",
      "source": [
        "In your projects folder ...\n",
        "\n",
        "```bash\n",
        "source project_name/bin/activate\n",
        "```"
      ],
      "metadata": {
        "id": "xNXPQcPUkPbo"
      }
    },
    {
      "cell_type": "markdown",
      "source": [
        "### Installing Packages\n",
        "\n"
      ],
      "metadata": {
        "id": "2D_imYF5kPV7"
      }
    },
    {
      "cell_type": "markdown",
      "source": [
        "While the virtual environment is active, you can install packages using pip and pip will install packages within the folder hierarchy specific to the virtual environment.\n",
        "\n",
        "```bash\n",
        "pip install package_name\n",
        "```"
      ],
      "metadata": {
        "id": "tU_8LN1vlbQ8"
      }
    },
    {
      "cell_type": "markdown",
      "source": [
        "### Listing installed python packages\n",
        "\n",
        "\n"
      ],
      "metadata": {
        "id": "Iysy6nOCsvUg"
      }
    },
    {
      "cell_type": "markdown",
      "source": [
        "```bash\n",
        "pip freeze | tee requirements.txt\n",
        "```\n",
        "\n",
        "\n"
      ],
      "metadata": {
        "id": "-QH-XBT3s0E9"
      }
    },
    {
      "cell_type": "markdown",
      "source": [
        "### Installing packages from a requirements.txt file\n",
        "\n"
      ],
      "metadata": {
        "id": "vpGj-jZutgRI"
      }
    },
    {
      "cell_type": "markdown",
      "source": [
        "```bash\n",
        "pip install -r requirements.txt\n",
        "```\n",
        "\n"
      ],
      "metadata": {
        "id": "OxTatbnOtlBj"
      }
    },
    {
      "cell_type": "markdown",
      "source": [
        "### Deactivating the Virtual Environment\n",
        "\n"
      ],
      "metadata": {
        "id": "gDSjye74kPQW"
      }
    },
    {
      "cell_type": "markdown",
      "source": [
        "```bash\n",
        "deactivate\n",
        "```\n",
        "\n"
      ],
      "metadata": {
        "id": "p-9tvVRIkPKs"
      }
    },
    {
      "cell_type": "markdown",
      "source": [
        "## References\n",
        "\n",
        "- Corey Schafer -- [Python Tutorial: VENV (Windows) - How to Use Virtual Environments with the Built-In venv Module]( https://youtu.be/APOPm01BVrk )\n",
        "\n",
        "\n",
        "\n"
      ],
      "metadata": {
        "id": "-U_ic89wuvkA"
      }
    }
  ]
}