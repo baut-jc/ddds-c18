{
  "cells": [
    {
      "cell_type": "markdown",
      "metadata": {
        "id": "view-in-github",
        "colab_type": "text"
      },
      "source": [
        "<a href=\"https://colab.research.google.com/github/baut-jc/ddds-c18/blob/main/Exercises/3_1a_Empire_State_Building_Game.ipynb\" target=\"_parent\"><img src=\"https://colab.research.google.com/assets/colab-badge.svg\" alt=\"Open In Colab\"/></a>"
      ]
    },
    {
      "cell_type": "markdown",
      "metadata": {
        "id": "Y0gj27yFkxcU"
      },
      "source": [
        "\n",
        "#Climbing The Steps of The Empire State Building Steps: The Game\n",
        "The objective is to create a Dice game logic, which will decide the odds of reaching Step number 60 of the Empire State Building in 100 rolls of the die. We would then simulate this sequence multiple times to calculate the probability of reaching step 60 in 100 tries using the Dice game logic.\n"
      ]
    },
    {
      "cell_type": "markdown",
      "metadata": {
        "id": "rIAQoik6k7EW"
      },
      "source": [
        "#Rules\n",
        "For each random walk sequence we throw a Die.\n",
        "1. Step 0 at ground level, is the starting point.\n",
        "2. If the roll of the Die returns 1 or 2, climb down one step.\n",
        "3. If the roll of the Die returns 3, 4 or 5, go up one step.\n",
        "4. If the roll of the Die returns 6, throw the Die again and advance the number of steps equal to that throw.\n",
        "5. There is a little chance of being clumsy and falling down the Stairs in which case we start again from 0.\n",
        "6. The value of Steps cannot be negative, the lowest value would always be 0 (which is the starting point)."
      ]
    },
    {
      "cell_type": "markdown",
      "metadata": {
        "id": "LcEXEE_PmsUr"
      },
      "source": [
        "#Some pointers that might help with the code:\n",
        "\n",
        "1. The function random.seed() may be used to make your results reproducible.\n",
        "2. To represent clumsiness of falling down, generate a random number between 0 and 1. If that number is less than .001, set the steps value to Zero as is the rule.\n",
        "3. You'll want to run the Dice game many times to calculate the probability of reaching step 60 in 100 rolls.\n",
        "\n",
        "\n"
      ]
    },
    {
      "cell_type": "markdown",
      "metadata": {
        "id": "aN2fhW-pk-fV"
      },
      "source": [
        "# Your Tasks\n",
        "1. Write code for the above Dice game.\n",
        "2. Estimate the probability of reaching step 60 in 100 rolls.\n",
        "3. Create a plot of your random walk results."
      ]
    },
    {
      "cell_type": "markdown",
      "metadata": {
        "id": "EAZSqOf2noOe"
      },
      "source": [
        "# Solution\n"
      ]
    },
    {
      "cell_type": "code",
      "source": [
        "import random\n",
        "import matplotlib.pyplot as plt\n",
        "import numpy as np"
      ],
      "metadata": {
        "id": "U9iVc8s5nzrD"
      },
      "execution_count": 2,
      "outputs": []
    },
    {
      "cell_type": "code",
      "source": [
        "# There is a little chance of being clumsy and falling down the Stairs in which case we start again from 0.\n",
        "# The value of Steps cannot be negative, the lowest value would always be 0 (which is the starting point).\n",
        "\n",
        "#fall chance  <0.001 step resets\n",
        "\n",
        "def roll_dice():\n",
        "    return random.randint(1, 6)\n",
        "\n",
        "def take_step():\n",
        "    main_roll = roll_dice()\n",
        "    if main_roll <= 2: # If the roll of the Die returns 1 or 2, climb down one step. use max as step only starts at 0.\n",
        "        return -1\n",
        "    elif main_roll <= 5: # If the roll of the Die returns 3, 4 or 5, go up one step.\n",
        "        return 1\n",
        "    else: # Roll was 6 (If the roll of the Die returns 6, throw the Die again and advance the number of steps equal to that throw.)\n",
        "        return roll_dice() # Return the result of the second roll\n",
        "\n",
        "# Then, the main simulation function would be cleaner:\n",
        "def game_time(num_rolls=100):\n",
        "    current_step = 0 # Step 0 at ground level, is the starting point.\n",
        "    step_history = [current_step]\n",
        "    for roll in range(num_rolls):\n",
        "        # The logic is now simpler to read\n",
        "        change = take_step()\n",
        "        current_step += change\n",
        "\n",
        "        # Apply other rules\n",
        "        if current_step < 0:\n",
        "            current_step = 0\n",
        "        if random.random() < 0.001:\n",
        "            current_step = 0\n",
        "\n",
        "        step_history.append(current_step)\n",
        "    return step_history"
      ],
      "metadata": {
        "id": "fOBk8t2Yn2gl"
      },
      "execution_count": 3,
      "outputs": []
    }
  ],
  "metadata": {
    "colab": {
      "provenance": [],
      "include_colab_link": true
    },
    "kernelspec": {
      "display_name": "Python 3",
      "name": "python3"
    },
    "language_info": {
      "name": "python"
    }
  },
  "nbformat": 4,
  "nbformat_minor": 0
}