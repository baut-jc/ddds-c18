{
  "cells": [
    {
      "cell_type": "markdown",
      "metadata": {
        "id": "view-in-github",
        "colab_type": "text"
      },
      "source": [
        "<a href=\"https://colab.research.google.com/github/baut-jc/ddds-c18/blob/main/Exercises/2_2a_Games.ipynb\" target=\"_parent\"><img src=\"https://colab.research.google.com/assets/colab-badge.svg\" alt=\"Open In Colab\"/></a>"
      ]
    },
    {
      "cell_type": "markdown",
      "metadata": {
        "id": "3qFIw9UckPOW"
      },
      "source": [
        "# Python Exercises - Games"
      ]
    },
    {
      "cell_type": "markdown",
      "metadata": {
        "id": "Oh_ShY9jhqhI"
      },
      "source": [
        "Build each of the following games in Python:\n",
        "\n",
        "1. **Rock, Paper, Scissors** - In this game, the user will be playing Rock, Paper, Scissors against the computer. Your code should request input from the user and it should randomly generate a choice for the computer. It should print out the winner along with a message about how they won (e.g., \"The computer won. Scissor cuts paper\").\n",
        "\n",
        "2. **MadLibs** - In this game, you will request string input from the user (adjectives, nouns, verbs, etc.) and then you will use that input to generate and print out a MadLibs story. Make sure to format the string input so that it looks nice in your story.\n",
        "\n",
        "3. **Number Guesser** - This is a simple guessing game where the computer will generate a random number between 1 to 10, and the user has to guess it in 5 attempts. Based on the user’s guess, the computer will give a hint if the number is high or low. When the user correctly guesses, print the answer along with the number of attempts.\n"
      ]
    },
    {
      "cell_type": "code",
      "source": [
        "import numpy as np\n",
        "import pandas as pd"
      ],
      "metadata": {
        "id": "5NxPGlPu6ZaA"
      },
      "execution_count": null,
      "outputs": []
    },
    {
      "cell_type": "markdown",
      "metadata": {
        "id": "bYSTNPA6b5o1"
      },
      "source": [
        "## Rock, Paper, Scissors"
      ]
    },
    {
      "cell_type": "code",
      "execution_count": null,
      "metadata": {
        "id": "p81qeawokOb_"
      },
      "outputs": [],
      "source": [
        "# Alejandro's Array approach\n",
        "def rock_paper_scissors():\n",
        "  choices = np.array([\n",
        "      'rock', 'paper', 'scissors'\n",
        "  ])\n",
        "\n",
        "  outcomes = np.array([\n",
        "      ['tie', 'lose', 'win'],\n",
        "      ['win', 'tie', 'lose'],\n",
        "      ['lose', 'win', 'tie']\n",
        "  ])\n",
        "\n",
        "  win_messages = np.array([\n",
        "      ['', 'Paper covers rock.', 'Rock crashes scissors.'],\n",
        "      ['Paper covers rock.', '', 'Scissors cut paper.'],\n",
        "      ['Rock crashes scissors.', 'Scissors cut paper.', '']\n",
        "  ])\n",
        "\n",
        "  print('Rock, Paper, Scissors Game!')\n",
        "\n",
        "  user_choice = input('Choose rock, paper, or scissors.').lower() # allows users to chose r/p/s\n",
        "  comp_idx = np.random.randint(0,3)\n",
        "  comp_choice = choices[comp_idx]\n",
        "  user_idx = np.where(choices==user_choice) # looks for where of the index in choices, specifically by numpy.\n",
        "\n",
        "  print(f'\\nYou chose:{user_choice}')\n",
        "  print(f'Computer chose:{comp_choice}\\n')\n",
        "  result = outcomes[user_idx,comp_idx] #looks at outcomes[row:column]\n",
        "  message = win_messages[user_idx, comp_idx]\n",
        "\n",
        "  if result == 'tie':\n",
        "    print('It\\'s a TIE!')\n",
        "  elif result == 'win':\n",
        "    print(f'You win, {message}!')\n",
        "  else:\n",
        "    print(f'Computer WINS, {message}!')"
      ]
    },
    {
      "cell_type": "markdown",
      "metadata": {
        "id": "nBf5ycggcBDI"
      },
      "source": [
        "## MadLibs"
      ]
    },
    {
      "cell_type": "code",
      "execution_count": null,
      "metadata": {
        "id": "gB3Ru_alcCp7",
        "colab": {
          "base_uri": "https://localhost:8080/"
        },
        "outputId": "3c06f237-8d72-4d7e-c967-6db4f2bd3bc7"
      },
      "outputs": [
        {
          "output_type": "stream",
          "name": "stdout",
          "text": [
            "Welcome to Mad Libs!\n"
          ]
        }
      ],
      "source": [
        "def mad_libs():\n",
        "    print(\"Welcome to Mad Libs!\")\n",
        "\n",
        "    # Collect user input for different word types\n",
        "    name = input(\"Enter a name: \")\n",
        "    adjective1 = input(\"Enter an adjective: \")\n",
        "    noun1 = input(\"Enter a noun: \")\n",
        "    verb1 = input(\"Enter a verb (past tense): \")\n",
        "    adjective2 = input(\"Enter another adjective: \")\n",
        "    noun2 = input(\"Enter another noun: \")\n",
        "    place = input(\"Enter a place: \")\n",
        "    verb2 = input(\"Enter another verb: \")\n",
        "    adverb = input(\"Enter an adverb: \")\n",
        "\n",
        "    # Construct the Mad Libs story using f-strings for easy formatting\n",
        "    story = f'\\nStand Up with {name}!! '\n",
        "\n",
        "    # Print the completed Mad Libs story\n",
        "    print(\"\\nHere is your Mad Libs story:\\n\")\n",
        "    print(story)\n",
        "\n",
        "# Run the Mad Libs game\n",
        "mad_libs()"
      ]
    },
    {
      "cell_type": "markdown",
      "metadata": {
        "id": "zU_dS6OMcF4y"
      },
      "source": [
        "## Number Guesser"
      ]
    },
    {
      "cell_type": "code",
      "execution_count": null,
      "metadata": {
        "id": "MIQoKw6ocFDC"
      },
      "outputs": [],
      "source": [
        "def number_guesser():\n",
        "    \"\"\"Plays a number guessing game.\"\"\"\n",
        "    secret_number = np.random.randint(1, 10)\n",
        "    attempts = 0\n",
        "    max_attempts = 5\n",
        "\n",
        "    print(\"Welcome to the Number Guessing Game!\")\n",
        "    print(f\"I've chosen a number between 1 and 10. You have {max_attempts} attempts.\")\n",
        "\n",
        "    while attempts < max_attempts:\n",
        "        try:\n",
        "            guess = int(input(\"Enter your guess: \"))\n",
        "            attempts += 1\n",
        "\n",
        "            if guess < secret_number:\n",
        "                print(\"Too low!\")\n",
        "            elif guess > secret_number:\n",
        "                print(\"Too high!\")\n",
        "            else:\n",
        "                print(f\"Congratulations! You guessed the number {secret_number} in {attempts} attempts.\")\n",
        "                return  # Exit the function on correct guess\n",
        "\n",
        "        except ValueError:\n",
        "            print(\"Invalid input. Please enter a number.\")\n",
        "\n",
        "    print(f\"You ran out of attempts. The number was {secret_number}.\")\n",
        "\n",
        "if __name__ == \"__main__\":\n",
        "number_guesser()"
      ]
    }
  ],
  "metadata": {
    "colab": {
      "provenance": [],
      "include_colab_link": true
    },
    "kernelspec": {
      "display_name": "Python 3 (ipykernel)",
      "language": "python",
      "name": "python3"
    },
    "language_info": {
      "codemirror_mode": {
        "name": "ipython",
        "version": 3
      },
      "file_extension": ".py",
      "mimetype": "text/x-python",
      "name": "python",
      "nbconvert_exporter": "python",
      "pygments_lexer": "ipython3",
      "version": "3.10.12"
    }
  },
  "nbformat": 4,
  "nbformat_minor": 0
}